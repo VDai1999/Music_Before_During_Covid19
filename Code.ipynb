{
  "nbformat": 4,
  "nbformat_minor": 0,
  "metadata": {
    "kernelspec": {
      "display_name": "Python 3",
      "language": "python",
      "name": "python3"
    },
    "language_info": {
      "codemirror_mode": {
        "name": "ipython",
        "version": 3
      },
      "file_extension": ".py",
      "mimetype": "text/x-python",
      "name": "python",
      "nbconvert_exporter": "python",
      "pygments_lexer": "ipython3",
      "version": "3.8.5"
    },
    "colab": {
      "name": "Code.ipynb",
      "provenance": [],
      "collapsed_sections": [],
      "include_colab_link": true
    },
    "accelerator": "GPU"
  },
  "cells": [
    {
      "cell_type": "markdown",
      "metadata": {
        "id": "view-in-github",
        "colab_type": "text"
      },
      "source": [
        "<a href=\"https://colab.research.google.com/github/VDai1999/Music_Before_During_Covid19/blob/main/Code.ipynb\" target=\"_parent\"><img src=\"https://colab.research.google.com/assets/colab-badge.svg\" alt=\"Open In Colab\"/></a>"
      ]
    },
    {
      "cell_type": "markdown",
      "metadata": {
        "id": "0SecQYHgERPh"
      },
      "source": [
        "# The Changes In the Taste of Music of Listeners Before and During Covid-19 (Top 200 Weekly Song's on Spotify Analysis)"
      ]
    },
    {
      "cell_type": "markdown",
      "metadata": {
        "id": "5d6uZ0kSGpI4"
      },
      "source": [
        "The aim of this project is to determine the impact of the pandemic on the listeners' taste based on the weekly top 200 global song on Spotify. \n",
        "<br><br>\n",
        "The songs and artists' names were retrieved from [Spotify website](https://spotifycharts.com/regional) during the period of 12/28/2018 to 12/04/2020. Based on the information of top songs, each song's features were collected using [Spotify API](https://spotipy.readthedocs.io/en/2.18.0/)."
      ]
    },
    {
      "cell_type": "code",
      "metadata": {
        "id": "1xvzbnXbLtRI"
      },
      "source": [
        "# Import libraries\n",
        "!pip install spotipy\n",
        "import spotipy\n",
        "from spotipy.oauth2 import SpotifyClientCredentials #To access authorised Spotify data\n",
        "import csv\n",
        "import pandas as pd\n",
        "import glob\n",
        "from scipy import stats\n",
        "import matplotlib.pyplot as plt\n",
        "import seaborn as sns\n",
        "import numpy as np\n",
        "from sklearn import preprocessing\n",
        "from sklearn.cluster import KMeans\n",
        "from scipy.spatial.distance import euclidean"
      ],
      "execution_count": null,
      "outputs": []
    },
    {
      "cell_type": "code",
      "metadata": {
        "id": "wJbIjTwxT4Go"
      },
      "source": [
        "# Connect to folders in Google Drive\n",
        "from google.colab import drive\n",
        "drive.mount('/content/gdrive')"
      ],
      "execution_count": null,
      "outputs": []
    },
    {
      "cell_type": "code",
      "metadata": {
        "id": "OqB2z9hSLtRJ"
      },
      "source": [
        "# Id retrieved from Spotify\n",
        "client_id = \"\"\n",
        "client_secret = \"\""
      ],
      "execution_count": null,
      "outputs": []
    },
    {
      "cell_type": "code",
      "metadata": {
        "id": "G2L86gO3LtRK"
      },
      "source": [
        "client_credentials_manager = SpotifyClientCredentials(client_id=client_id, client_secret=client_secret)\n",
        "sp = spotipy.Spotify(client_credentials_manager=client_credentials_manager) #spotify object to access API"
      ],
      "execution_count": null,
      "outputs": []
    },
    {
      "cell_type": "markdown",
      "metadata": {
        "id": "u1OhrRFdf8Nz"
      },
      "source": [
        "### **DATA CLEANING**"
      ]
    },
    {
      "cell_type": "markdown",
      "metadata": {
        "id": "wDhPF2P2uy8b"
      },
      "source": [
        "After downloading weekly top 200 songs from Spotify Website, all csvs files were uploaded to two separated folders in Google Drive. The first folder contains csv files from 12/28/2018 to 03/13/2020 exclusively (COVID-19 was declared as a pandemic on March 11, 2020), and the second folder contains files from 03/13/2020 to 12/04/2020 exclusively."
      ]
    },
    {
      "cell_type": "code",
      "metadata": {
        "id": "gBXcgi90ur11"
      },
      "source": [
        "# A function that help read all csv files from a folder and return a dataframe without duplicated values\n",
        "def read_csvs(path):\n",
        "  all_files = glob.glob(path + \"/*.csv\")\n",
        "\n",
        "  # Initialize a dataframe containing two columns: Track Name and Artist\n",
        "  combined_df = pd.DataFrame(columns=['Track Name','Artist'])\n",
        "\n",
        "  # Loop through all csv files and delete duplicated records using outer join\n",
        "  for filename in all_files:\n",
        "    df = pd.read_csv(filename, index_col=None, header=1)\n",
        "    df.drop([\"Position\", \"Streams\", \"URL\"], axis = 1, inplace = True) \n",
        "    combined_df = pd.merge(combined_df, df, on=['Track Name','Artist'], how='outer')\n",
        "\n",
        "  return combined_df"
      ],
      "execution_count": 3,
      "outputs": []
    },
    {
      "cell_type": "code",
      "metadata": {
        "id": "Ku-A9Pka5ceG"
      },
      "source": [
        "# before_Covid data set: A data set that contains top songs being listened \n",
        "# before the pandemic (from 12/28/2018 to 03/13/2020 exclusively)\n",
        "before_Covid = read_csvs(r'.../data_beforeCovid')\n",
        "before_Covid.head()"
      ],
      "execution_count": null,
      "outputs": []
    },
    {
      "cell_type": "code",
      "metadata": {
        "id": "z1r35d1X6Arx"
      },
      "source": [
        "# during_Covid: A data set that contains top songs being listened \n",
        "# during the pandemic (from 03/13/2020 to 12/04/2020 exclusively)\n",
        "during_Covid = read_csvs(r'.../data_duringCovid')\n",
        "during_Covid.head()"
      ],
      "execution_count": null,
      "outputs": []
    },
    {
      "cell_type": "code",
      "metadata": {
        "id": "WEsfbux_6flr"
      },
      "source": [
        "# A function that condenses the song's name\n",
        "def cleaning(df):\n",
        "  # EX: Who (feat. BTS) => Who\n",
        "  df['Track Name'] = df['Track Name'].str.replace(r\"\\(.*\\)\",\"\")\n",
        "\n",
        "  # Delete any words after hyphen (\"-\")\n",
        "  for row in range (len(df)):\n",
        "    df.iloc[row,0] = df.iloc[row,0].split(\" -\", 1)[0]\n",
        "\n",
        "  return df"
      ],
      "execution_count": 6,
      "outputs": []
    },
    {
      "cell_type": "code",
      "metadata": {
        "id": "l3MGh1Ks7C_v"
      },
      "source": [
        "# Cleaning song's names of the before_Covid data set\n",
        "before_Covid = cleaning(before_Covid)\n",
        "before_Covid.head()"
      ],
      "execution_count": null,
      "outputs": []
    },
    {
      "cell_type": "code",
      "metadata": {
        "id": "Y6tFjr-w7ThM"
      },
      "source": [
        "# Cleaning song's names of the during_Covid data set\n",
        "during_Covid = cleaning(during_Covid)\n",
        "during_Covid.head()"
      ],
      "execution_count": null,
      "outputs": []
    },
    {
      "cell_type": "markdown",
      "metadata": {
        "id": "SX0Hb-ZTzEXE"
      },
      "source": [
        "Songs appeared in both before_Covid and during_Covid dataset were deleted."
      ]
    },
    {
      "cell_type": "code",
      "metadata": {
        "id": "kQLSN59H__ks"
      },
      "source": [
        "# A function that performs left outer join exclusive to delete shared songs in two datasets.\n",
        "def left_outer_excl(df1, df2):\n",
        "  # Delete shared songs between 2 datasets\n",
        "  df_excl = pd.merge(df1, df2[['Track Name']], on='Track Name', how=\"left\", \n",
        "                   indicator=True).query('_merge==\"left_only\"')\n",
        "\n",
        "  # Drop the _merge column\n",
        "  df_excl = df_excl.drop(columns=[\"_merge\"])\n",
        "\n",
        "  # Reset the index\n",
        "  df_excl.reset_index(inplace=True, drop=True)\n",
        "\n",
        "  return df_excl"
      ],
      "execution_count": 9,
      "outputs": []
    },
    {
      "cell_type": "code",
      "metadata": {
        "id": "zUziDwIoAuM1"
      },
      "source": [
        "# Delete shared songs in the before_Covid data set\n",
        "before_Covid_excl = left_outer_excl(before_Covid, during_Covid)\n",
        "before_Covid_excl.head()\n",
        "\n",
        "# Check the length of the new data set\n",
        "len(before_Covid_excl)"
      ],
      "execution_count": null,
      "outputs": []
    },
    {
      "cell_type": "code",
      "metadata": {
        "id": "FnLYgjxoBTgM"
      },
      "source": [
        "# Delete shared songs in the during_Covid data set\n",
        "during_Covid_excl = left_outer_excl(during_Covid, before_Covid)\n",
        "during_Covid_excl.head()\n",
        "\n",
        "# Check the length of the new data set\n",
        "len(during_Covid_excl)"
      ],
      "execution_count": null,
      "outputs": []
    },
    {
      "cell_type": "code",
      "metadata": {
        "id": "J1g4j0swBj4h"
      },
      "source": [
        "# Try to perform inner join between two new data sets to check if there are any shared songs left. \n",
        "# If the left outer join exclusive was done correctly, the returned dataframe should have 0 row.\n",
        "pd.merge(before_Covid_excl, during_Covid_excl[[\"Track Name\"]], on='Track Name')"
      ],
      "execution_count": null,
      "outputs": []
    },
    {
      "cell_type": "code",
      "metadata": {
        "id": "W28QkCHFCdS1"
      },
      "source": [
        "# Save the original dataframes into the csv files\n",
        "before_Covid.to_csv(r'.../before_Covid.csv', index=False)\n",
        "during_Covid.to_csv(r'.../during_Covid.csv', index=False)"
      ],
      "execution_count": null,
      "outputs": []
    },
    {
      "cell_type": "code",
      "metadata": {
        "id": "tdPvbRcOLtRM"
      },
      "source": [
        "# Save the exclusive dataframes into the csv files\n",
        "before_Covid_excl.to_csv(r'.../before_Covid_excl.csv', index=False)\n",
        "during_Covid_excl.to_csv(r'.../during_Covid_excl.csv', index=False)"
      ],
      "execution_count": null,
      "outputs": []
    },
    {
      "cell_type": "code",
      "metadata": {
        "id": "QiO6TTOJTWHb"
      },
      "source": [
        "# Read before_Covid_excl.csv and during_Covid_excl.csv files\n",
        "before_Covid_excl = pd.read_csv(\".../before_Covid_excl.csv\")\n",
        "during_Covid_excl = pd.read_csv(\".../during_Covid_excl.csv\")"
      ],
      "execution_count": 15,
      "outputs": []
    },
    {
      "cell_type": "markdown",
      "metadata": {
        "id": "AcTCNfxjQLxI"
      },
      "source": [
        "### **FEATURES RETRIEVAL FROM SPOTIFY**"
      ]
    },
    {
      "cell_type": "markdown",
      "metadata": {
        "id": "c1Kh91FR0IRW"
      },
      "source": [
        "After cleaning songs and artists' names, songs' features were retrieved from Spotify."
      ]
    },
    {
      "cell_type": "code",
      "metadata": {
        "id": "5HuTRH4ONnQS"
      },
      "source": [
        "# A function that gets songs' features from JSON data format\n",
        "def song_features(result):\n",
        "    songFeature = {}\n",
        "    track = result['tracks']['items'][0]['uri']\n",
        "    features = sp.audio_features(track)\n",
        "    cols = ['danceability', 'energy', 'speechiness', 'acousticness', 'instrumentalness', \n",
        "            'liveness', 'valence', 'tempo', 'type', 'duration_ms']\n",
        "    \n",
        "    songFeature['artist'] = result['tracks']['items'][0]['artists'][0]['name']\n",
        "    songFeature['song'] = result['tracks']['items'][0]['name']\n",
        "    \n",
        "    for col in cols:\n",
        "        songFeature[col] = features[0][col]\n",
        "        \n",
        "    pop = sp.track(track)\n",
        "    songFeature['popularity'] = pop['popularity']\n",
        "    \n",
        "    return songFeature"
      ],
      "execution_count": 16,
      "outputs": []
    },
    {
      "cell_type": "code",
      "metadata": {
        "id": "-zrP6T1ueQLO"
      },
      "source": [
        "# A function that retrieves the features of the top song from Spotify\n",
        "def get_Features(df):\n",
        "    listSongFeature = []\n",
        "    songFeatures_df = pd.DataFrame(columns= ['artist', 'song', 'danceability', 'energy', 'speechiness', 'acousticness', \n",
        "                                     'instrumentalness', 'liveness', 'valence', 'tempo', 'type', 'duration_ms', \n",
        "                                     'popularity'])\n",
        "    \n",
        "    for i in range (len(df)):\n",
        "        artist = df['Artist'][i]\n",
        "        song = df['Track Name'][i]\n",
        "\n",
        "        result = sp.search(q=song + \" \" + artist, limit=1)\n",
        "  \n",
        "        sf = song_features(result)\n",
        "        temp_df = pd.DataFrame(sf, index=[0])\n",
        "        songFeatures_df = songFeatures_df.append(temp_df, ignore_index = True)\n",
        "      \n",
        "    return songFeatures_df\n",
        "     "
      ],
      "execution_count": 17,
      "outputs": []
    },
    {
      "cell_type": "code",
      "metadata": {
        "id": "MBmWvVNLJq3A"
      },
      "source": [
        "########################\n",
        "## BEFORE_COVID_EXCL\n",
        "########################\n",
        "\n",
        "# Delete \"Lost in Japan\" by Shawn Mendes and \"Walk Me Home\" by P!nk because of the difference in the format\n",
        "before_Covid_excl.drop(before_Covid_excl.index[[520,657]], axis=0, inplace=True)\n",
        "\n",
        "# Reset the index\n",
        "before_Covid_excl.reset_index(inplace=True, drop=True)\n",
        "\n",
        "# Get the features\n",
        "before_Covid_Features = get_Features(before_Covid_excl)\n",
        "before_Covid_Features_excl.head()"
      ],
      "execution_count": null,
      "outputs": []
    },
    {
      "cell_type": "code",
      "metadata": {
        "id": "E7UijLC5c-cm"
      },
      "source": [
        "########################\n",
        "## DURING_COVID_EXCL\n",
        "########################\n",
        "\n",
        "# Delete \"In meinem Benz\" by AK AUSSERKONTROLLE because of the difference in the format\n",
        "during_Covid_excl.drop(during_Covid_excl.index[[464]], axis=0, inplace=True)\n",
        "\n",
        "# Reset the index\n",
        "during_Covid_excl.reset_index(inplace=True, drop=True)\n",
        "\n",
        "# Get the features\n",
        "during_Covid_Features = get_Features(during_Covid_excl)\n",
        "during_Covid_Features.head()"
      ],
      "execution_count": null,
      "outputs": []
    },
    {
      "cell_type": "code",
      "metadata": {
        "id": "wprgKtFxLTPz"
      },
      "source": [
        "# Save the features dataframes into the csv files\n",
        "before_Covid_Features.to_csv(r'.../before_Covid_Features.csv', index=False)\n",
        "during_Covid_Features.to_csv(r'.../during_Covid_Features.csv', index=False)"
      ],
      "execution_count": null,
      "outputs": []
    },
    {
      "cell_type": "code",
      "metadata": {
        "id": "PpfQAF3nfMpN"
      },
      "source": [
        "# Read before_Covid_Features.csv and during_Covid_Features.csv files\n",
        "before_Covid_Features = pd.read_csv(\".../before_Covid_Features.csv\")\n",
        "during_Covid_Features = pd.read_csv(\".../during_Covid_Features.csv\")"
      ],
      "execution_count": 21,
      "outputs": []
    },
    {
      "cell_type": "markdown",
      "metadata": {
        "id": "GLQ6jz2wiRvU"
      },
      "source": [
        "### **EXPLORATORY DATA ANALYSIS**"
      ]
    },
    {
      "cell_type": "code",
      "metadata": {
        "id": "hz0oZaWViaKN",
        "colab": {
          "base_uri": "https://localhost:8080/",
          "height": 637
        },
        "outputId": "546b7e5a-fbf8-4ba2-9008-c7632cb56c38"
      },
      "source": [
        "# Briefly explore the songs' features of before Covid data set\n",
        "before_Covid_Features.info()\n",
        "before_Covid_Features.describe()"
      ],
      "execution_count": 22,
      "outputs": [
        {
          "output_type": "stream",
          "text": [
            "<class 'pandas.core.frame.DataFrame'>\n",
            "RangeIndex: 1018 entries, 0 to 1017\n",
            "Data columns (total 13 columns):\n",
            " #   Column            Non-Null Count  Dtype  \n",
            "---  ------            --------------  -----  \n",
            " 0   artist            1018 non-null   object \n",
            " 1   song              1018 non-null   object \n",
            " 2   danceability      1018 non-null   float64\n",
            " 3   energy            1018 non-null   float64\n",
            " 4   speechiness       1018 non-null   float64\n",
            " 5   acousticness      1018 non-null   float64\n",
            " 6   instrumentalness  1018 non-null   float64\n",
            " 7   liveness          1018 non-null   float64\n",
            " 8   valence           1018 non-null   float64\n",
            " 9   tempo             1018 non-null   float64\n",
            " 10  type              1018 non-null   object \n",
            " 11  duration_ms       1018 non-null   int64  \n",
            " 12  popularity        1018 non-null   int64  \n",
            "dtypes: float64(8), int64(2), object(3)\n",
            "memory usage: 103.5+ KB\n"
          ],
          "name": "stdout"
        },
        {
          "output_type": "execute_result",
          "data": {
            "text/html": [
              "<div>\n",
              "<style scoped>\n",
              "    .dataframe tbody tr th:only-of-type {\n",
              "        vertical-align: middle;\n",
              "    }\n",
              "\n",
              "    .dataframe tbody tr th {\n",
              "        vertical-align: top;\n",
              "    }\n",
              "\n",
              "    .dataframe thead th {\n",
              "        text-align: right;\n",
              "    }\n",
              "</style>\n",
              "<table border=\"1\" class=\"dataframe\">\n",
              "  <thead>\n",
              "    <tr style=\"text-align: right;\">\n",
              "      <th></th>\n",
              "      <th>danceability</th>\n",
              "      <th>energy</th>\n",
              "      <th>speechiness</th>\n",
              "      <th>acousticness</th>\n",
              "      <th>instrumentalness</th>\n",
              "      <th>liveness</th>\n",
              "      <th>valence</th>\n",
              "      <th>tempo</th>\n",
              "      <th>duration_ms</th>\n",
              "      <th>popularity</th>\n",
              "    </tr>\n",
              "  </thead>\n",
              "  <tbody>\n",
              "    <tr>\n",
              "      <th>count</th>\n",
              "      <td>1018.000000</td>\n",
              "      <td>1018.000000</td>\n",
              "      <td>1018.000000</td>\n",
              "      <td>1018.000000</td>\n",
              "      <td>1018.000000</td>\n",
              "      <td>1018.000000</td>\n",
              "      <td>1018.000000</td>\n",
              "      <td>1018.000000</td>\n",
              "      <td>1018.000000</td>\n",
              "      <td>1018.000000</td>\n",
              "    </tr>\n",
              "    <tr>\n",
              "      <th>mean</th>\n",
              "      <td>0.696663</td>\n",
              "      <td>0.637017</td>\n",
              "      <td>0.136681</td>\n",
              "      <td>0.242684</td>\n",
              "      <td>0.011727</td>\n",
              "      <td>0.179174</td>\n",
              "      <td>0.503140</td>\n",
              "      <td>122.037847</td>\n",
              "      <td>201116.891945</td>\n",
              "      <td>64.969548</td>\n",
              "    </tr>\n",
              "    <tr>\n",
              "      <th>std</th>\n",
              "      <td>0.142189</td>\n",
              "      <td>0.164937</td>\n",
              "      <td>0.116846</td>\n",
              "      <td>0.238973</td>\n",
              "      <td>0.070369</td>\n",
              "      <td>0.139128</td>\n",
              "      <td>0.213766</td>\n",
              "      <td>30.909769</td>\n",
              "      <td>46015.981559</td>\n",
              "      <td>14.140469</td>\n",
              "    </tr>\n",
              "    <tr>\n",
              "      <th>min</th>\n",
              "      <td>0.153000</td>\n",
              "      <td>0.054000</td>\n",
              "      <td>0.024700</td>\n",
              "      <td>0.000055</td>\n",
              "      <td>0.000000</td>\n",
              "      <td>0.019700</td>\n",
              "      <td>0.036000</td>\n",
              "      <td>46.718000</td>\n",
              "      <td>46837.000000</td>\n",
              "      <td>0.000000</td>\n",
              "    </tr>\n",
              "    <tr>\n",
              "      <th>25%</th>\n",
              "      <td>0.614750</td>\n",
              "      <td>0.544250</td>\n",
              "      <td>0.047900</td>\n",
              "      <td>0.054875</td>\n",
              "      <td>0.000000</td>\n",
              "      <td>0.099225</td>\n",
              "      <td>0.341000</td>\n",
              "      <td>96.991250</td>\n",
              "      <td>173031.000000</td>\n",
              "      <td>60.250000</td>\n",
              "    </tr>\n",
              "    <tr>\n",
              "      <th>50%</th>\n",
              "      <td>0.719000</td>\n",
              "      <td>0.654500</td>\n",
              "      <td>0.087250</td>\n",
              "      <td>0.162500</td>\n",
              "      <td>0.000000</td>\n",
              "      <td>0.124000</td>\n",
              "      <td>0.512000</td>\n",
              "      <td>119.960000</td>\n",
              "      <td>195967.500000</td>\n",
              "      <td>68.000000</td>\n",
              "    </tr>\n",
              "    <tr>\n",
              "      <th>75%</th>\n",
              "      <td>0.796000</td>\n",
              "      <td>0.756000</td>\n",
              "      <td>0.198500</td>\n",
              "      <td>0.361000</td>\n",
              "      <td>0.000021</td>\n",
              "      <td>0.210000</td>\n",
              "      <td>0.664000</td>\n",
              "      <td>144.091000</td>\n",
              "      <td>221424.750000</td>\n",
              "      <td>73.000000</td>\n",
              "    </tr>\n",
              "    <tr>\n",
              "      <th>max</th>\n",
              "      <td>0.974000</td>\n",
              "      <td>0.972000</td>\n",
              "      <td>0.856000</td>\n",
              "      <td>0.994000</td>\n",
              "      <td>0.918000</td>\n",
              "      <td>0.913000</td>\n",
              "      <td>0.977000</td>\n",
              "      <td>207.476000</td>\n",
              "      <td>577199.000000</td>\n",
              "      <td>88.000000</td>\n",
              "    </tr>\n",
              "  </tbody>\n",
              "</table>\n",
              "</div>"
            ],
            "text/plain": [
              "       danceability       energy  ...    duration_ms   popularity\n",
              "count   1018.000000  1018.000000  ...    1018.000000  1018.000000\n",
              "mean       0.696663     0.637017  ...  201116.891945    64.969548\n",
              "std        0.142189     0.164937  ...   46015.981559    14.140469\n",
              "min        0.153000     0.054000  ...   46837.000000     0.000000\n",
              "25%        0.614750     0.544250  ...  173031.000000    60.250000\n",
              "50%        0.719000     0.654500  ...  195967.500000    68.000000\n",
              "75%        0.796000     0.756000  ...  221424.750000    73.000000\n",
              "max        0.974000     0.972000  ...  577199.000000    88.000000\n",
              "\n",
              "[8 rows x 10 columns]"
            ]
          },
          "metadata": {
            "tags": []
          },
          "execution_count": 22
        }
      ]
    },
    {
      "cell_type": "code",
      "metadata": {
        "id": "yTUyG0tro22f",
        "colab": {
          "base_uri": "https://localhost:8080/",
          "height": 637
        },
        "outputId": "71d9fdc1-4064-4db5-bb98-562d888ea16e"
      },
      "source": [
        "# Briefly explore the songs' features of during Covid data set\n",
        "during_Covid_Features.info()\n",
        "during_Covid_Features.describe()"
      ],
      "execution_count": 23,
      "outputs": [
        {
          "output_type": "stream",
          "text": [
            "<class 'pandas.core.frame.DataFrame'>\n",
            "RangeIndex: 579 entries, 0 to 578\n",
            "Data columns (total 13 columns):\n",
            " #   Column            Non-Null Count  Dtype  \n",
            "---  ------            --------------  -----  \n",
            " 0   artist            579 non-null    object \n",
            " 1   song              579 non-null    object \n",
            " 2   danceability      579 non-null    float64\n",
            " 3   energy            579 non-null    float64\n",
            " 4   speechiness       579 non-null    float64\n",
            " 5   acousticness      579 non-null    float64\n",
            " 6   instrumentalness  579 non-null    float64\n",
            " 7   liveness          579 non-null    float64\n",
            " 8   valence           579 non-null    float64\n",
            " 9   tempo             579 non-null    float64\n",
            " 10  type              579 non-null    object \n",
            " 11  duration_ms       579 non-null    int64  \n",
            " 12  popularity        579 non-null    int64  \n",
            "dtypes: float64(8), int64(2), object(3)\n",
            "memory usage: 58.9+ KB\n"
          ],
          "name": "stdout"
        },
        {
          "output_type": "execute_result",
          "data": {
            "text/html": [
              "<div>\n",
              "<style scoped>\n",
              "    .dataframe tbody tr th:only-of-type {\n",
              "        vertical-align: middle;\n",
              "    }\n",
              "\n",
              "    .dataframe tbody tr th {\n",
              "        vertical-align: top;\n",
              "    }\n",
              "\n",
              "    .dataframe thead th {\n",
              "        text-align: right;\n",
              "    }\n",
              "</style>\n",
              "<table border=\"1\" class=\"dataframe\">\n",
              "  <thead>\n",
              "    <tr style=\"text-align: right;\">\n",
              "      <th></th>\n",
              "      <th>danceability</th>\n",
              "      <th>energy</th>\n",
              "      <th>speechiness</th>\n",
              "      <th>acousticness</th>\n",
              "      <th>instrumentalness</th>\n",
              "      <th>liveness</th>\n",
              "      <th>valence</th>\n",
              "      <th>tempo</th>\n",
              "      <th>duration_ms</th>\n",
              "      <th>popularity</th>\n",
              "    </tr>\n",
              "  </thead>\n",
              "  <tbody>\n",
              "    <tr>\n",
              "      <th>count</th>\n",
              "      <td>579.000000</td>\n",
              "      <td>579.000000</td>\n",
              "      <td>579.000000</td>\n",
              "      <td>579.000000</td>\n",
              "      <td>579.000000</td>\n",
              "      <td>579.000000</td>\n",
              "      <td>579.000000</td>\n",
              "      <td>579.000000</td>\n",
              "      <td>579.000000</td>\n",
              "      <td>579.000000</td>\n",
              "    </tr>\n",
              "    <tr>\n",
              "      <th>mean</th>\n",
              "      <td>0.707154</td>\n",
              "      <td>0.643221</td>\n",
              "      <td>0.134378</td>\n",
              "      <td>0.213386</td>\n",
              "      <td>0.016624</td>\n",
              "      <td>0.180109</td>\n",
              "      <td>0.498450</td>\n",
              "      <td>123.301665</td>\n",
              "      <td>194134.518135</td>\n",
              "      <td>71.799655</td>\n",
              "    </tr>\n",
              "    <tr>\n",
              "      <th>std</th>\n",
              "      <td>0.138840</td>\n",
              "      <td>0.143244</td>\n",
              "      <td>0.114204</td>\n",
              "      <td>0.225928</td>\n",
              "      <td>0.093882</td>\n",
              "      <td>0.139354</td>\n",
              "      <td>0.223718</td>\n",
              "      <td>29.783651</td>\n",
              "      <td>45169.941413</td>\n",
              "      <td>12.080809</td>\n",
              "    </tr>\n",
              "    <tr>\n",
              "      <th>min</th>\n",
              "      <td>0.184000</td>\n",
              "      <td>0.181000</td>\n",
              "      <td>0.025300</td>\n",
              "      <td>0.000192</td>\n",
              "      <td>0.000000</td>\n",
              "      <td>0.031100</td>\n",
              "      <td>0.036300</td>\n",
              "      <td>62.948000</td>\n",
              "      <td>30583.000000</td>\n",
              "      <td>0.000000</td>\n",
              "    </tr>\n",
              "    <tr>\n",
              "      <th>25%</th>\n",
              "      <td>0.635500</td>\n",
              "      <td>0.545000</td>\n",
              "      <td>0.050950</td>\n",
              "      <td>0.041050</td>\n",
              "      <td>0.000000</td>\n",
              "      <td>0.098150</td>\n",
              "      <td>0.332000</td>\n",
              "      <td>99.009500</td>\n",
              "      <td>167818.500000</td>\n",
              "      <td>66.000000</td>\n",
              "    </tr>\n",
              "    <tr>\n",
              "      <th>50%</th>\n",
              "      <td>0.728000</td>\n",
              "      <td>0.649000</td>\n",
              "      <td>0.087800</td>\n",
              "      <td>0.143000</td>\n",
              "      <td>0.000000</td>\n",
              "      <td>0.123000</td>\n",
              "      <td>0.495000</td>\n",
              "      <td>122.012000</td>\n",
              "      <td>190534.000000</td>\n",
              "      <td>73.000000</td>\n",
              "    </tr>\n",
              "    <tr>\n",
              "      <th>75%</th>\n",
              "      <td>0.810500</td>\n",
              "      <td>0.744500</td>\n",
              "      <td>0.191500</td>\n",
              "      <td>0.305000</td>\n",
              "      <td>0.000047</td>\n",
              "      <td>0.209000</td>\n",
              "      <td>0.661500</td>\n",
              "      <td>144.013000</td>\n",
              "      <td>213682.500000</td>\n",
              "      <td>79.000000</td>\n",
              "    </tr>\n",
              "    <tr>\n",
              "      <th>max</th>\n",
              "      <td>0.962000</td>\n",
              "      <td>0.970000</td>\n",
              "      <td>0.884000</td>\n",
              "      <td>0.991000</td>\n",
              "      <td>0.965000</td>\n",
              "      <td>0.944000</td>\n",
              "      <td>0.968000</td>\n",
              "      <td>203.903000</td>\n",
              "      <td>484147.000000</td>\n",
              "      <td>94.000000</td>\n",
              "    </tr>\n",
              "  </tbody>\n",
              "</table>\n",
              "</div>"
            ],
            "text/plain": [
              "       danceability      energy  ...    duration_ms  popularity\n",
              "count    579.000000  579.000000  ...     579.000000  579.000000\n",
              "mean       0.707154    0.643221  ...  194134.518135   71.799655\n",
              "std        0.138840    0.143244  ...   45169.941413   12.080809\n",
              "min        0.184000    0.181000  ...   30583.000000    0.000000\n",
              "25%        0.635500    0.545000  ...  167818.500000   66.000000\n",
              "50%        0.728000    0.649000  ...  190534.000000   73.000000\n",
              "75%        0.810500    0.744500  ...  213682.500000   79.000000\n",
              "max        0.962000    0.970000  ...  484147.000000   94.000000\n",
              "\n",
              "[8 rows x 10 columns]"
            ]
          },
          "metadata": {
            "tags": []
          },
          "execution_count": 23
        }
      ]
    },
    {
      "cell_type": "code",
      "metadata": {
        "id": "j4fMeuQNo8QG",
        "colab": {
          "base_uri": "https://localhost:8080/",
          "height": 356
        },
        "outputId": "71d407c5-b801-49de-8127-b68dcb5b6152"
      },
      "source": [
        "# Plot boxplot of before_Covid_Features dataframe\n",
        "sns.boxplot(data=before_Covid_Features.drop(['artist', 'song', 'type', 'duration_ms', 'popularity', 'tempo'], axis=1))\n",
        "plt.xlabel('Features')\n",
        "plt.ylabel('Values')\n",
        "plt.xticks(rotation='vertical')\n",
        "plt.show()"
      ],
      "execution_count": 24,
      "outputs": [
        {
          "output_type": "display_data",
          "data": {
            "image/png": "[encoded data removed]",
            "text/plain": [
              "<Figure size 432x288 with 1 Axes>"
            ]
          },
          "metadata": {
            "tags": [],
            "needs_background": "light"
          }
        }
      ]
    },
    {
      "cell_type": "code",
      "metadata": {
        "id": "6vZMlKg7uhg0",
        "colab": {
          "base_uri": "https://localhost:8080/",
          "height": 356
        },
        "outputId": "ae0c1826-5b3b-4907-a7da-37f2d53f415f"
      },
      "source": [
        "# Plot boxplot of during_Covid_Features dataframe\n",
        "sns.boxplot(data=during_Covid_Features.drop(['artist', 'song', 'type', 'duration_ms', 'popularity', 'tempo'], axis=1))\n",
        "plt.xlabel('Features')\n",
        "plt.ylabel('Values')\n",
        "plt.xticks(rotation='vertical')\n",
        "plt.show()"
      ],
      "execution_count": 25,
      "outputs": [
        {
          "output_type": "display_data",
          "data": {
            "image/png": "[encoded data removed]",
            "text/plain": [
              "<Figure size 432x288 with 1 Axes>"
            ]
          },
          "metadata": {
            "tags": [],
            "needs_background": "light"
          }
        }
      ]
    },
    {
      "cell_type": "markdown",
      "metadata": {
        "id": "Dmi_So8t3d7o"
      },
      "source": [
        "Based on two boxplots above, we see that the distribution of most features are similiar when comparing each feature in pair (before versus during COVID-19 period). However, we will perform the statistical tests to make a final conclusion."
      ]
    },
    {
      "cell_type": "code",
      "metadata": {
        "id": "EevP8sGq4NZA",
        "colab": {
          "base_uri": "https://localhost:8080/",
          "height": 684
        },
        "outputId": "c4f5cd4c-c16e-4718-8e27-e830e1c92627"
      },
      "source": [
        "# Plot linear correlation matrix of before_Covid_Features dataframe\n",
        "fig, ax = plt.subplots(figsize=(15,10))\n",
        "sns.heatmap(before_Covid_Features.corr(), annot=True, cmap='YlGnBu', vmin=-1, vmax=1, center=0, ax=ax)\n",
        "plt.title('PEARSON CORRELATION (BEFORE COVID-19)')\n",
        "plt.show()"
      ],
      "execution_count": 26,
      "outputs": [
        {
          "output_type": "display_data",
          "data": {
            "image/png": "[encoded data removed]",
            "text/plain": [
              "<Figure size 1080x720 with 2 Axes>"
            ]
          },
          "metadata": {
            "tags": [],
            "needs_background": "light"
          }
        }
      ]
    },
    {
      "cell_type": "markdown",
      "metadata": {
        "id": "gsrtMsO_bRn0"
      },
      "source": [
        "Based on the correlation matrix, it seems that the longer the song is, the less danceability, valence, and speechiness the song has. Furthermore, it seems that the popularity of a song positively correlates with the danceability, speechiness, instrumentalness, tempo, and duration of the song."
      ]
    },
    {
      "cell_type": "code",
      "metadata": {
        "id": "ejj-NKG84x_p",
        "colab": {
          "base_uri": "https://localhost:8080/",
          "height": 684
        },
        "outputId": "88581abe-21c3-4d3e-8fa7-5dd32ebaa0c6"
      },
      "source": [
        "# Plot linear correlation matrix of during_Covid_Features dataframe\n",
        "fig, ax = plt.subplots(figsize=(15,10))\n",
        "sns.heatmap(during_Covid_Features.corr(), annot=True, cmap='YlGnBu', vmin=-1, vmax=1, center=0, ax=ax)\n",
        "plt.title('PEARSON CORRELATION (DURING COVID-19)')\n",
        "plt.show()"
      ],
      "execution_count": 27,
      "outputs": [
        {
          "output_type": "display_data",
          "data": {
            "image/png": "[encoded data removed]",
            "text/plain": [
              "<Figure size 1080x720 with 2 Axes>"
            ]
          },
          "metadata": {
            "tags": [],
            "needs_background": "light"
          }
        }
      ]
    },
    {
      "cell_type": "markdown",
      "metadata": {
        "id": "wdFzMnkZi-Np"
      },
      "source": [
        "### **ANALYSIS**"
      ]
    },
    {
      "cell_type": "code",
      "metadata": {
        "id": "hUJnJvqiTZCn"
      },
      "source": [
        "# A function that takes 2 dataframes and the feature's name to conduct the two sample t-test in order to see\n",
        "# if there is a significant difference in music's taste before and during the pandemic.\n",
        "def two_sample_t(dat1, dat2, feature):\n",
        "  arr1 = dat1.loc[:, feature].values.tolist()\n",
        "  arr2 = dat2.loc[:, feature].values.tolist()\n",
        "  stat, p = stats.ttest_ind(arr1, arr2)\n",
        "  alpha = 0.05\n",
        "\n",
        "  if p > alpha:\n",
        "    print(\"Fail to reject H0. Therefore, two samples have the same distributions.\")\n",
        "  else:\n",
        "    print(\"Reject H0. Therefore, two samples have difference distributions.\")\n",
        "\n",
        "  return \"Result: Statistic=\" + str(stat) + \", p-value=\" + str(p)"
      ],
      "execution_count": 28,
      "outputs": []
    },
    {
      "cell_type": "code",
      "metadata": {
        "id": "Jf8BK7uLT5os"
      },
      "source": [
        "# Source: https://github.com/bhattbhavesh91/GA_Sessions/blob/master/t_test_independence/T_Test_Sales.ipynb\n",
        "# A function that draw histograms of 2 samples\n",
        "def dist_plot(dat1, dat2, feature):\n",
        "  arr1 = np.array(dat1.loc[:, feature])\n",
        "  arr2 = np.array(dat2.loc[:, feature])\n",
        "\n",
        "  plt.figure()\n",
        "  ax1 = sns.distplot(arr1)\n",
        "  ax2 = sns.distplot(arr2)\n",
        "  plt.axvline(np.mean(arr1), color='blue', linestyle='dashed', linewidth=3)\n",
        "  plt.axvline(np.mean(arr2), color='orange', linestyle='dashed', linewidth=3)\n",
        "\n",
        "  return plt.figure"
      ],
      "execution_count": 29,
      "outputs": []
    },
    {
      "cell_type": "markdown",
      "metadata": {
        "id": "kMw2vj2m9G2e"
      },
      "source": [
        "#### *Danceability*"
      ]
    },
    {
      "cell_type": "code",
      "metadata": {
        "id": "7aBV0ICqUTeD",
        "colab": {
          "base_uri": "https://localhost:8080/",
          "height": 370
        },
        "outputId": "5d30b2e5-6706-4fe2-b386-2497bb5135db"
      },
      "source": [
        "dist_plot(before_Covid_Features, during_Covid_Features, 'danceability')"
      ],
      "execution_count": 30,
      "outputs": [
        {
          "output_type": "stream",
          "text": [
            "/usr/local/lib/python3.7/dist-packages/seaborn/distributions.py:2557: FutureWarning: `distplot` is a deprecated function and will be removed in a future version. Please adapt your code to use either `displot` (a figure-level function with similar flexibility) or `histplot` (an axes-level function for histograms).\n",
            "  warnings.warn(msg, FutureWarning)\n",
            "/usr/local/lib/python3.7/dist-packages/seaborn/distributions.py:2557: FutureWarning: `distplot` is a deprecated function and will be removed in a future version. Please adapt your code to use either `displot` (a figure-level function with similar flexibility) or `histplot` (an axes-level function for histograms).\n",
            "  warnings.warn(msg, FutureWarning)\n"
          ],
          "name": "stderr"
        },
        {
          "output_type": "execute_result",
          "data": {
            "text/plain": [
              "<function matplotlib.pyplot.figure>"
            ]
          },
          "metadata": {
            "tags": []
          },
          "execution_count": 30
        },
        {
          "output_type": "display_data",
          "data": {
            "image/png": "[encoded data removed]",
            "text/plain": [
              "<Figure size 432x288 with 1 Axes>"
            ]
          },
          "metadata": {
            "tags": [],
            "needs_background": "light"
          }
        }
      ]
    },
    {
      "cell_type": "code",
      "metadata": {
        "id": "CwhcQjYP-j_y",
        "colab": {
          "base_uri": "https://localhost:8080/",
          "height": 52
        },
        "outputId": "5b767050-48f2-4337-fbfc-33a693d93ec4"
      },
      "source": [
        "two_sample_t(before_Covid_Features, during_Covid_Features, 'danceability')"
      ],
      "execution_count": 31,
      "outputs": [
        {
          "output_type": "stream",
          "text": [
            "Fail to reject H0. Therefore, two samples have the same distributions.\n"
          ],
          "name": "stdout"
        },
        {
          "output_type": "execute_result",
          "data": {
            "application/vnd.google.colaboratory.intrinsic+json": {
              "type": "string"
            },
            "text/plain": [
              "'Result: Statistic=-1.4295218385663884, p-value=0.15305013205491483'"
            ]
          },
          "metadata": {
            "tags": []
          },
          "execution_count": 31
        }
      ]
    },
    {
      "cell_type": "markdown",
      "metadata": {
        "id": "lIz8pMIh9bHe"
      },
      "source": [
        "#### *Energy*"
      ]
    },
    {
      "cell_type": "code",
      "metadata": {
        "id": "lvNeco5s9izc",
        "colab": {
          "base_uri": "https://localhost:8080/",
          "height": 370
        },
        "outputId": "f7084a18-2c68-46a8-fb2d-84bf93337a5f"
      },
      "source": [
        "dist_plot(before_Covid_Features, during_Covid_Features, 'energy')"
      ],
      "execution_count": 32,
      "outputs": [
        {
          "output_type": "stream",
          "text": [
            "/usr/local/lib/python3.7/dist-packages/seaborn/distributions.py:2557: FutureWarning: `distplot` is a deprecated function and will be removed in a future version. Please adapt your code to use either `displot` (a figure-level function with similar flexibility) or `histplot` (an axes-level function for histograms).\n",
            "  warnings.warn(msg, FutureWarning)\n",
            "/usr/local/lib/python3.7/dist-packages/seaborn/distributions.py:2557: FutureWarning: `distplot` is a deprecated function and will be removed in a future version. Please adapt your code to use either `displot` (a figure-level function with similar flexibility) or `histplot` (an axes-level function for histograms).\n",
            "  warnings.warn(msg, FutureWarning)\n"
          ],
          "name": "stderr"
        },
        {
          "output_type": "execute_result",
          "data": {
            "text/plain": [
              "<function matplotlib.pyplot.figure>"
            ]
          },
          "metadata": {
            "tags": []
          },
          "execution_count": 32
        },
        {
          "output_type": "display_data",
          "data": {
            "image/png": "[encoded data removed]",
            "text/plain": [
              "<Figure size 432x288 with 1 Axes>"
            ]
          },
          "metadata": {
            "tags": [],
            "needs_background": "light"
          }
        }
      ]
    },
    {
      "cell_type": "code",
      "metadata": {
        "id": "ZtK6ZEda_9zy",
        "colab": {
          "base_uri": "https://localhost:8080/",
          "height": 52
        },
        "outputId": "bdd43fb7-fabf-49b7-c756-85163d9009e3"
      },
      "source": [
        "two_sample_t(before_Covid_Features, during_Covid_Features, 'energy')"
      ],
      "execution_count": 33,
      "outputs": [
        {
          "output_type": "stream",
          "text": [
            "Fail to reject H0. Therefore, two samples have the same distributions.\n"
          ],
          "name": "stdout"
        },
        {
          "output_type": "execute_result",
          "data": {
            "application/vnd.google.colaboratory.intrinsic+json": {
              "type": "string"
            },
            "text/plain": [
              "'Result: Statistic=-0.757147896450238, p-value=0.44907309333081513'"
            ]
          },
          "metadata": {
            "tags": []
          },
          "execution_count": 33
        }
      ]
    },
    {
      "cell_type": "markdown",
      "metadata": {
        "id": "rsmvyDUrACj7"
      },
      "source": [
        "#### *Speechiness*"
      ]
    },
    {
      "cell_type": "code",
      "metadata": {
        "id": "uzzKxcexAH1r",
        "colab": {
          "base_uri": "https://localhost:8080/",
          "height": 370
        },
        "outputId": "96b0ed85-7914-4472-ed12-952818ffad0b"
      },
      "source": [
        "dist_plot(before_Covid_Features, during_Covid_Features, 'speechiness')"
      ],
      "execution_count": 34,
      "outputs": [
        {
          "output_type": "stream",
          "text": [
            "/usr/local/lib/python3.7/dist-packages/seaborn/distributions.py:2557: FutureWarning: `distplot` is a deprecated function and will be removed in a future version. Please adapt your code to use either `displot` (a figure-level function with similar flexibility) or `histplot` (an axes-level function for histograms).\n",
            "  warnings.warn(msg, FutureWarning)\n",
            "/usr/local/lib/python3.7/dist-packages/seaborn/distributions.py:2557: FutureWarning: `distplot` is a deprecated function and will be removed in a future version. Please adapt your code to use either `displot` (a figure-level function with similar flexibility) or `histplot` (an axes-level function for histograms).\n",
            "  warnings.warn(msg, FutureWarning)\n"
          ],
          "name": "stderr"
        },
        {
          "output_type": "execute_result",
          "data": {
            "text/plain": [
              "<function matplotlib.pyplot.figure>"
            ]
          },
          "metadata": {
            "tags": []
          },
          "execution_count": 34
        },
        {
          "output_type": "display_data",
          "data": {
            "image/png": "[encoded data removed]",
            "text/plain": [
              "<Figure size 432x288 with 1 Axes>"
            ]
          },
          "metadata": {
            "tags": [],
            "needs_background": "light"
          }
        }
      ]
    },
    {
      "cell_type": "code",
      "metadata": {
        "id": "z97qyl_5AMIY",
        "colab": {
          "base_uri": "https://localhost:8080/",
          "height": 52
        },
        "outputId": "74919e57-2a79-4c3b-ee5d-d2cf4b89dab6"
      },
      "source": [
        "two_sample_t(before_Covid_Features, during_Covid_Features, 'speechiness')"
      ],
      "execution_count": 35,
      "outputs": [
        {
          "output_type": "stream",
          "text": [
            "Fail to reject H0. Therefore, two samples have the same distributions.\n"
          ],
          "name": "stdout"
        },
        {
          "output_type": "execute_result",
          "data": {
            "application/vnd.google.colaboratory.intrinsic+json": {
              "type": "string"
            },
            "text/plain": [
              "'Result: Statistic=0.3817534830223838, p-value=0.7026950766618072'"
            ]
          },
          "metadata": {
            "tags": []
          },
          "execution_count": 35
        }
      ]
    },
    {
      "cell_type": "markdown",
      "metadata": {
        "id": "GzKLHL75AVq2"
      },
      "source": [
        "#### *Acousticness*"
      ]
    },
    {
      "cell_type": "code",
      "metadata": {
        "id": "Vut1nltAAahB",
        "colab": {
          "base_uri": "https://localhost:8080/",
          "height": 370
        },
        "outputId": "693fcaea-c6ba-4c10-88a5-1b68c5424c57"
      },
      "source": [
        "dist_plot(before_Covid_Features, during_Covid_Features, 'acousticness')"
      ],
      "execution_count": 36,
      "outputs": [
        {
          "output_type": "stream",
          "text": [
            "/usr/local/lib/python3.7/dist-packages/seaborn/distributions.py:2557: FutureWarning: `distplot` is a deprecated function and will be removed in a future version. Please adapt your code to use either `displot` (a figure-level function with similar flexibility) or `histplot` (an axes-level function for histograms).\n",
            "  warnings.warn(msg, FutureWarning)\n",
            "/usr/local/lib/python3.7/dist-packages/seaborn/distributions.py:2557: FutureWarning: `distplot` is a deprecated function and will be removed in a future version. Please adapt your code to use either `displot` (a figure-level function with similar flexibility) or `histplot` (an axes-level function for histograms).\n",
            "  warnings.warn(msg, FutureWarning)\n"
          ],
          "name": "stderr"
        },
        {
          "output_type": "execute_result",
          "data": {
            "text/plain": [
              "<function matplotlib.pyplot.figure>"
            ]
          },
          "metadata": {
            "tags": []
          },
          "execution_count": 36
        },
        {
          "output_type": "display_data",
          "data": {
            "image/png": "[encoded data removed]",
            "text/plain": [
              "<Figure size 432x288 with 1 Axes>"
            ]
          },
          "metadata": {
            "tags": [],
            "needs_background": "light"
          }
        }
      ]
    },
    {
      "cell_type": "code",
      "metadata": {
        "id": "fo7DvPnIAfFH",
        "colab": {
          "base_uri": "https://localhost:8080/",
          "height": 52
        },
        "outputId": "8e2516b1-5617-41cb-b620-8287b0ebed4b"
      },
      "source": [
        "two_sample_t(before_Covid_Features, during_Covid_Features, 'acousticness')"
      ],
      "execution_count": 37,
      "outputs": [
        {
          "output_type": "stream",
          "text": [
            "Reject H0. Therefore, two samples have difference distributions.\n"
          ],
          "name": "stdout"
        },
        {
          "output_type": "execute_result",
          "data": {
            "application/vnd.google.colaboratory.intrinsic+json": {
              "type": "string"
            },
            "text/plain": [
              "'Result: Statistic=2.4019795647408992, p-value=0.016420364788646488'"
            ]
          },
          "metadata": {
            "tags": []
          },
          "execution_count": 37
        }
      ]
    },
    {
      "cell_type": "markdown",
      "metadata": {
        "id": "c8XdyHUpBDAx"
      },
      "source": [
        "#### *Instrumentalness*"
      ]
    },
    {
      "cell_type": "code",
      "metadata": {
        "id": "ozrvigLlBNSU",
        "colab": {
          "base_uri": "https://localhost:8080/",
          "height": 370
        },
        "outputId": "ae94bf59-6864-4887-cec4-316174b34570"
      },
      "source": [
        "dist_plot(before_Covid_Features, during_Covid_Features, 'instrumentalness')"
      ],
      "execution_count": 38,
      "outputs": [
        {
          "output_type": "stream",
          "text": [
            "/usr/local/lib/python3.7/dist-packages/seaborn/distributions.py:2557: FutureWarning: `distplot` is a deprecated function and will be removed in a future version. Please adapt your code to use either `displot` (a figure-level function with similar flexibility) or `histplot` (an axes-level function for histograms).\n",
            "  warnings.warn(msg, FutureWarning)\n",
            "/usr/local/lib/python3.7/dist-packages/seaborn/distributions.py:2557: FutureWarning: `distplot` is a deprecated function and will be removed in a future version. Please adapt your code to use either `displot` (a figure-level function with similar flexibility) or `histplot` (an axes-level function for histograms).\n",
            "  warnings.warn(msg, FutureWarning)\n"
          ],
          "name": "stderr"
        },
        {
          "output_type": "execute_result",
          "data": {
            "text/plain": [
              "<function matplotlib.pyplot.figure>"
            ]
          },
          "metadata": {
            "tags": []
          },
          "execution_count": 38
        },
        {
          "output_type": "display_data",
          "data": {
            "image/png": "[encoded data removed]",
            "text/plain": [
              "<Figure size 432x288 with 1 Axes>"
            ]
          },
          "metadata": {
            "tags": [],
            "needs_background": "light"
          }
        }
      ]
    },
    {
      "cell_type": "code",
      "metadata": {
        "id": "PbLQkPrpBYuz",
        "colab": {
          "base_uri": "https://localhost:8080/",
          "height": 52
        },
        "outputId": "36600bc4-37f7-4d14-fc24-350b0ad91050"
      },
      "source": [
        "two_sample_t(before_Covid_Features, during_Covid_Features, 'instrumentalness')"
      ],
      "execution_count": 39,
      "outputs": [
        {
          "output_type": "stream",
          "text": [
            "Fail to reject H0. Therefore, two samples have the same distributions.\n"
          ],
          "name": "stdout"
        },
        {
          "output_type": "execute_result",
          "data": {
            "application/vnd.google.colaboratory.intrinsic+json": {
              "type": "string"
            },
            "text/plain": [
              "'Result: Statistic=-1.1804261862146328, p-value=0.2380067579463245'"
            ]
          },
          "metadata": {
            "tags": []
          },
          "execution_count": 39
        }
      ]
    },
    {
      "cell_type": "markdown",
      "metadata": {
        "id": "BNVax8JtBdG2"
      },
      "source": [
        "#### *Liveness*"
      ]
    },
    {
      "cell_type": "code",
      "metadata": {
        "id": "QBcMz86gBfa2",
        "colab": {
          "base_uri": "https://localhost:8080/",
          "height": 371
        },
        "outputId": "35c248a3-fa55-4756-8bce-eb87fe607beb"
      },
      "source": [
        "dist_plot(before_Covid_Features, during_Covid_Features, 'liveness')"
      ],
      "execution_count": 40,
      "outputs": [
        {
          "output_type": "stream",
          "text": [
            "/usr/local/lib/python3.7/dist-packages/seaborn/distributions.py:2557: FutureWarning: `distplot` is a deprecated function and will be removed in a future version. Please adapt your code to use either `displot` (a figure-level function with similar flexibility) or `histplot` (an axes-level function for histograms).\n",
            "  warnings.warn(msg, FutureWarning)\n",
            "/usr/local/lib/python3.7/dist-packages/seaborn/distributions.py:2557: FutureWarning: `distplot` is a deprecated function and will be removed in a future version. Please adapt your code to use either `displot` (a figure-level function with similar flexibility) or `histplot` (an axes-level function for histograms).\n",
            "  warnings.warn(msg, FutureWarning)\n"
          ],
          "name": "stderr"
        },
        {
          "output_type": "execute_result",
          "data": {
            "text/plain": [
              "<function matplotlib.pyplot.figure>"
            ]
          },
          "metadata": {
            "tags": []
          },
          "execution_count": 40
        },
        {
          "output_type": "display_data",
          "data": {
            "image/png": "[encoded data removed]",
            "text/plain": [
              "<Figure size 432x288 with 1 Axes>"
            ]
          },
          "metadata": {
            "tags": [],
            "needs_background": "light"
          }
        }
      ]
    },
    {
      "cell_type": "code",
      "metadata": {
        "id": "IWfck9EDBmry",
        "colab": {
          "base_uri": "https://localhost:8080/",
          "height": 52
        },
        "outputId": "e6e7e295-3648-410a-d602-73a31fc0e780"
      },
      "source": [
        "two_sample_t(before_Covid_Features, during_Covid_Features, 'liveness')"
      ],
      "execution_count": 41,
      "outputs": [
        {
          "output_type": "stream",
          "text": [
            "Fail to reject H0. Therefore, two samples have the same distributions.\n"
          ],
          "name": "stdout"
        },
        {
          "output_type": "execute_result",
          "data": {
            "application/vnd.google.colaboratory.intrinsic+json": {
              "type": "string"
            },
            "text/plain": [
              "'Result: Statistic=-0.12901849392023781, p-value=0.8973592815206348'"
            ]
          },
          "metadata": {
            "tags": []
          },
          "execution_count": 41
        }
      ]
    },
    {
      "cell_type": "markdown",
      "metadata": {
        "id": "JktyZ68UBqzw"
      },
      "source": [
        "#### *Valence*"
      ]
    },
    {
      "cell_type": "code",
      "metadata": {
        "id": "UwDFOO_sBuVp",
        "colab": {
          "base_uri": "https://localhost:8080/",
          "height": 370
        },
        "outputId": "a1bf4419-38e6-44f5-c693-e2122aed42c6"
      },
      "source": [
        "dist_plot(before_Covid_Features, during_Covid_Features, 'valence')"
      ],
      "execution_count": 42,
      "outputs": [
        {
          "output_type": "stream",
          "text": [
            "/usr/local/lib/python3.7/dist-packages/seaborn/distributions.py:2557: FutureWarning: `distplot` is a deprecated function and will be removed in a future version. Please adapt your code to use either `displot` (a figure-level function with similar flexibility) or `histplot` (an axes-level function for histograms).\n",
            "  warnings.warn(msg, FutureWarning)\n",
            "/usr/local/lib/python3.7/dist-packages/seaborn/distributions.py:2557: FutureWarning: `distplot` is a deprecated function and will be removed in a future version. Please adapt your code to use either `displot` (a figure-level function with similar flexibility) or `histplot` (an axes-level function for histograms).\n",
            "  warnings.warn(msg, FutureWarning)\n"
          ],
          "name": "stderr"
        },
        {
          "output_type": "execute_result",
          "data": {
            "text/plain": [
              "<function matplotlib.pyplot.figure>"
            ]
          },
          "metadata": {
            "tags": []
          },
          "execution_count": 42
        },
        {
          "output_type": "display_data",
          "data": {
            "image/png": "[encoded data removed]",
            "text/plain": [
              "<Figure size 432x288 with 1 Axes>"
            ]
          },
          "metadata": {
            "tags": [],
            "needs_background": "light"
          }
        }
      ]
    },
    {
      "cell_type": "code",
      "metadata": {
        "id": "W2dJHDMRBzoW",
        "colab": {
          "base_uri": "https://localhost:8080/",
          "height": 52
        },
        "outputId": "e66048ad-27d9-4c30-b45e-9406b64e3e0f"
      },
      "source": [
        "two_sample_t(before_Covid_Features, during_Covid_Features, 'valence')"
      ],
      "execution_count": 43,
      "outputs": [
        {
          "output_type": "stream",
          "text": [
            "Fail to reject H0. Therefore, two samples have the same distributions.\n"
          ],
          "name": "stdout"
        },
        {
          "output_type": "execute_result",
          "data": {
            "application/vnd.google.colaboratory.intrinsic+json": {
              "type": "string"
            },
            "text/plain": [
              "'Result: Statistic=0.4143841413246342, p-value=0.6786485220788466'"
            ]
          },
          "metadata": {
            "tags": []
          },
          "execution_count": 43
        }
      ]
    },
    {
      "cell_type": "markdown",
      "metadata": {
        "id": "_NMblbHTCCBZ"
      },
      "source": [
        "#### *Tempo*"
      ]
    },
    {
      "cell_type": "code",
      "metadata": {
        "id": "NiWs6_q6B8SO",
        "colab": {
          "base_uri": "https://localhost:8080/",
          "height": 370
        },
        "outputId": "987b1069-2f30-4566-963c-fd1fb69fb8db"
      },
      "source": [
        "dist_plot(before_Covid_Features, during_Covid_Features, 'tempo')"
      ],
      "execution_count": 44,
      "outputs": [
        {
          "output_type": "stream",
          "text": [
            "/usr/local/lib/python3.7/dist-packages/seaborn/distributions.py:2557: FutureWarning: `distplot` is a deprecated function and will be removed in a future version. Please adapt your code to use either `displot` (a figure-level function with similar flexibility) or `histplot` (an axes-level function for histograms).\n",
            "  warnings.warn(msg, FutureWarning)\n",
            "/usr/local/lib/python3.7/dist-packages/seaborn/distributions.py:2557: FutureWarning: `distplot` is a deprecated function and will be removed in a future version. Please adapt your code to use either `displot` (a figure-level function with similar flexibility) or `histplot` (an axes-level function for histograms).\n",
            "  warnings.warn(msg, FutureWarning)\n"
          ],
          "name": "stderr"
        },
        {
          "output_type": "execute_result",
          "data": {
            "text/plain": [
              "<function matplotlib.pyplot.figure>"
            ]
          },
          "metadata": {
            "tags": []
          },
          "execution_count": 44
        },
        {
          "output_type": "display_data",
          "data": {
            "image/png": "[encoded data removed]",
            "text/plain": [
              "<Figure size 432x288 with 1 Axes>"
            ]
          },
          "metadata": {
            "tags": [],
            "needs_background": "light"
          }
        }
      ]
    },
    {
      "cell_type": "code",
      "metadata": {
        "id": "2hK9BtqJB2ke",
        "colab": {
          "base_uri": "https://localhost:8080/",
          "height": 52
        },
        "outputId": "5c00f65e-02b2-46d2-d807-63cf3120dcba"
      },
      "source": [
        "two_sample_t(before_Covid_Features, during_Covid_Features, 'tempo')"
      ],
      "execution_count": 45,
      "outputs": [
        {
          "output_type": "stream",
          "text": [
            "Fail to reject H0. Therefore, two samples have the same distributions.\n"
          ],
          "name": "stdout"
        },
        {
          "output_type": "execute_result",
          "data": {
            "application/vnd.google.colaboratory.intrinsic+json": {
              "type": "string"
            },
            "text/plain": [
              "'Result: Statistic=-0.7958901351254092, p-value=0.42621432752057276'"
            ]
          },
          "metadata": {
            "tags": []
          },
          "execution_count": 45
        }
      ]
    },
    {
      "cell_type": "markdown",
      "metadata": {
        "id": "4VdB6iZwUwUZ"
      },
      "source": [
        "It seems that the music's taste of Spotify listeners has not changed due to the pandemic."
      ]
    },
    {
      "cell_type": "markdown",
      "metadata": {
        "id": "Z-36RCduuPSC"
      },
      "source": [
        "### **SONG RECOMMENDATION**"
      ]
    },
    {
      "cell_type": "code",
      "metadata": {
        "id": "k_h9FOxguv9t",
        "colab": {
          "base_uri": "https://localhost:8080/",
          "height": 204
        },
        "outputId": "eede5f1b-6de4-487c-8755-68d699765124"
      },
      "source": [
        "full_features = before_Covid_Features.append(during_Covid_Features, ignore_index=True)\n",
        "full_features.head()"
      ],
      "execution_count": 46,
      "outputs": [
        {
          "output_type": "execute_result",
          "data": {
            "text/html": [
              "<div>\n",
              "<style scoped>\n",
              "    .dataframe tbody tr th:only-of-type {\n",
              "        vertical-align: middle;\n",
              "    }\n",
              "\n",
              "    .dataframe tbody tr th {\n",
              "        vertical-align: top;\n",
              "    }\n",
              "\n",
              "    .dataframe thead th {\n",
              "        text-align: right;\n",
              "    }\n",
              "</style>\n",
              "<table border=\"1\" class=\"dataframe\">\n",
              "  <thead>\n",
              "    <tr style=\"text-align: right;\">\n",
              "      <th></th>\n",
              "      <th>artist</th>\n",
              "      <th>song</th>\n",
              "      <th>danceability</th>\n",
              "      <th>energy</th>\n",
              "      <th>speechiness</th>\n",
              "      <th>acousticness</th>\n",
              "      <th>instrumentalness</th>\n",
              "      <th>liveness</th>\n",
              "      <th>valence</th>\n",
              "      <th>tempo</th>\n",
              "      <th>type</th>\n",
              "      <th>duration_ms</th>\n",
              "      <th>popularity</th>\n",
              "    </tr>\n",
              "  </thead>\n",
              "  <tbody>\n",
              "    <tr>\n",
              "      <th>0</th>\n",
              "      <td>Lil Uzi Vert</td>\n",
              "      <td>POP</td>\n",
              "      <td>0.741</td>\n",
              "      <td>0.599</td>\n",
              "      <td>0.419</td>\n",
              "      <td>0.00961</td>\n",
              "      <td>0.0</td>\n",
              "      <td>0.785</td>\n",
              "      <td>0.276</td>\n",
              "      <td>139.891</td>\n",
              "      <td>audio_features</td>\n",
              "      <td>227474</td>\n",
              "      <td>60</td>\n",
              "    </tr>\n",
              "    <tr>\n",
              "      <th>1</th>\n",
              "      <td>Lil Uzi Vert</td>\n",
              "      <td>Celebration Station</td>\n",
              "      <td>0.748</td>\n",
              "      <td>0.771</td>\n",
              "      <td>0.150</td>\n",
              "      <td>0.10100</td>\n",
              "      <td>0.0</td>\n",
              "      <td>0.135</td>\n",
              "      <td>0.792</td>\n",
              "      <td>142.086</td>\n",
              "      <td>audio_features</td>\n",
              "      <td>195058</td>\n",
              "      <td>63</td>\n",
              "    </tr>\n",
              "    <tr>\n",
              "      <th>2</th>\n",
              "      <td>Lil Uzi Vert</td>\n",
              "      <td>Bigger Than Life</td>\n",
              "      <td>0.776</td>\n",
              "      <td>0.752</td>\n",
              "      <td>0.193</td>\n",
              "      <td>0.32500</td>\n",
              "      <td>0.0</td>\n",
              "      <td>0.330</td>\n",
              "      <td>0.716</td>\n",
              "      <td>140.013</td>\n",
              "      <td>audio_features</td>\n",
              "      <td>192705</td>\n",
              "      <td>64</td>\n",
              "    </tr>\n",
              "    <tr>\n",
              "      <th>3</th>\n",
              "      <td>Lil Uzi Vert</td>\n",
              "      <td>Venetia</td>\n",
              "      <td>0.775</td>\n",
              "      <td>0.757</td>\n",
              "      <td>0.175</td>\n",
              "      <td>0.16200</td>\n",
              "      <td>0.0</td>\n",
              "      <td>0.148</td>\n",
              "      <td>0.562</td>\n",
              "      <td>142.933</td>\n",
              "      <td>audio_features</td>\n",
              "      <td>188800</td>\n",
              "      <td>65</td>\n",
              "    </tr>\n",
              "    <tr>\n",
              "      <th>4</th>\n",
              "      <td>Lil Uzi Vert</td>\n",
              "      <td>You Better Move</td>\n",
              "      <td>0.842</td>\n",
              "      <td>0.556</td>\n",
              "      <td>0.442</td>\n",
              "      <td>0.15900</td>\n",
              "      <td>0.0</td>\n",
              "      <td>0.204</td>\n",
              "      <td>0.306</td>\n",
              "      <td>118.836</td>\n",
              "      <td>audio_features</td>\n",
              "      <td>196639</td>\n",
              "      <td>61</td>\n",
              "    </tr>\n",
              "  </tbody>\n",
              "</table>\n",
              "</div>"
            ],
            "text/plain": [
              "         artist                 song  ...  duration_ms  popularity\n",
              "0  Lil Uzi Vert                  POP  ...       227474          60\n",
              "1  Lil Uzi Vert  Celebration Station  ...       195058          63\n",
              "2  Lil Uzi Vert     Bigger Than Life  ...       192705          64\n",
              "3  Lil Uzi Vert              Venetia  ...       188800          65\n",
              "4  Lil Uzi Vert      You Better Move  ...       196639          61\n",
              "\n",
              "[5 rows x 13 columns]"
            ]
          },
          "metadata": {
            "tags": []
          },
          "execution_count": 46
        }
      ]
    },
    {
      "cell_type": "code",
      "metadata": {
        "id": "4wZKbryTveDj",
        "colab": {
          "base_uri": "https://localhost:8080/"
        },
        "outputId": "713002d2-f21e-404f-8157-4acb9da187f2"
      },
      "source": [
        "full_features.info()"
      ],
      "execution_count": 47,
      "outputs": [
        {
          "output_type": "stream",
          "text": [
            "<class 'pandas.core.frame.DataFrame'>\n",
            "RangeIndex: 1597 entries, 0 to 1596\n",
            "Data columns (total 13 columns):\n",
            " #   Column            Non-Null Count  Dtype  \n",
            "---  ------            --------------  -----  \n",
            " 0   artist            1597 non-null   object \n",
            " 1   song              1597 non-null   object \n",
            " 2   danceability      1597 non-null   float64\n",
            " 3   energy            1597 non-null   float64\n",
            " 4   speechiness       1597 non-null   float64\n",
            " 5   acousticness      1597 non-null   float64\n",
            " 6   instrumentalness  1597 non-null   float64\n",
            " 7   liveness          1597 non-null   float64\n",
            " 8   valence           1597 non-null   float64\n",
            " 9   tempo             1597 non-null   float64\n",
            " 10  type              1597 non-null   object \n",
            " 11  duration_ms       1597 non-null   int64  \n",
            " 12  popularity        1597 non-null   int64  \n",
            "dtypes: float64(8), int64(2), object(3)\n",
            "memory usage: 162.3+ KB\n"
          ],
          "name": "stdout"
        }
      ]
    },
    {
      "cell_type": "code",
      "metadata": {
        "id": "kLTXbfuJvu2a",
        "colab": {
          "base_uri": "https://localhost:8080/",
          "height": 204
        },
        "outputId": "2ef9cd08-82bc-406d-ff42-b8f2de7f41a0"
      },
      "source": [
        "# Create a dataframe that only contains numeric columns\n",
        "numeric_types = ['int64', 'float64']\n",
        "numeric_features = full_features.select_dtypes(include=numeric_types)\n",
        "\n",
        "# Normalize numeric columns\n",
        "d = preprocessing.normalize(numeric_features, axis=0)\n",
        "full_features_scaled = pd.DataFrame(d, columns=numeric_features.columns)\n",
        "full_features_scaled.head()"
      ],
      "execution_count": 48,
      "outputs": [
        {
          "output_type": "execute_result",
          "data": {
            "text/html": [
              "<div>\n",
              "<style scoped>\n",
              "    .dataframe tbody tr th:only-of-type {\n",
              "        vertical-align: middle;\n",
              "    }\n",
              "\n",
              "    .dataframe tbody tr th {\n",
              "        vertical-align: top;\n",
              "    }\n",
              "\n",
              "    .dataframe thead th {\n",
              "        text-align: right;\n",
              "    }\n",
              "</style>\n",
              "<table border=\"1\" class=\"dataframe\">\n",
              "  <thead>\n",
              "    <tr style=\"text-align: right;\">\n",
              "      <th></th>\n",
              "      <th>danceability</th>\n",
              "      <th>energy</th>\n",
              "      <th>speechiness</th>\n",
              "      <th>acousticness</th>\n",
              "      <th>instrumentalness</th>\n",
              "      <th>liveness</th>\n",
              "      <th>valence</th>\n",
              "      <th>tempo</th>\n",
              "      <th>duration_ms</th>\n",
              "      <th>popularity</th>\n",
              "    </tr>\n",
              "  </thead>\n",
              "  <tbody>\n",
              "    <tr>\n",
              "      <th>0</th>\n",
              "      <td>0.025951</td>\n",
              "      <td>0.022768</td>\n",
              "      <td>0.058731</td>\n",
              "      <td>0.000729</td>\n",
              "      <td>0.0</td>\n",
              "      <td>0.086492</td>\n",
              "      <td>0.012638</td>\n",
              "      <td>0.027731</td>\n",
              "      <td>0.027930</td>\n",
              "      <td>0.021808</td>\n",
              "    </tr>\n",
              "    <tr>\n",
              "      <th>1</th>\n",
              "      <td>0.026196</td>\n",
              "      <td>0.029305</td>\n",
              "      <td>0.021025</td>\n",
              "      <td>0.007659</td>\n",
              "      <td>0.0</td>\n",
              "      <td>0.014874</td>\n",
              "      <td>0.036265</td>\n",
              "      <td>0.028166</td>\n",
              "      <td>0.023950</td>\n",
              "      <td>0.022898</td>\n",
              "    </tr>\n",
              "    <tr>\n",
              "      <th>2</th>\n",
              "      <td>0.027177</td>\n",
              "      <td>0.028583</td>\n",
              "      <td>0.027053</td>\n",
              "      <td>0.024645</td>\n",
              "      <td>0.0</td>\n",
              "      <td>0.036360</td>\n",
              "      <td>0.032785</td>\n",
              "      <td>0.027755</td>\n",
              "      <td>0.023661</td>\n",
              "      <td>0.023262</td>\n",
              "    </tr>\n",
              "    <tr>\n",
              "      <th>3</th>\n",
              "      <td>0.027142</td>\n",
              "      <td>0.028773</td>\n",
              "      <td>0.024530</td>\n",
              "      <td>0.012285</td>\n",
              "      <td>0.0</td>\n",
              "      <td>0.016307</td>\n",
              "      <td>0.025733</td>\n",
              "      <td>0.028334</td>\n",
              "      <td>0.023182</td>\n",
              "      <td>0.023625</td>\n",
              "    </tr>\n",
              "    <tr>\n",
              "      <th>4</th>\n",
              "      <td>0.029488</td>\n",
              "      <td>0.021133</td>\n",
              "      <td>0.061955</td>\n",
              "      <td>0.012057</td>\n",
              "      <td>0.0</td>\n",
              "      <td>0.022477</td>\n",
              "      <td>0.014011</td>\n",
              "      <td>0.023557</td>\n",
              "      <td>0.024144</td>\n",
              "      <td>0.022171</td>\n",
              "    </tr>\n",
              "  </tbody>\n",
              "</table>\n",
              "</div>"
            ],
            "text/plain": [
              "   danceability    energy  speechiness  ...     tempo  duration_ms  popularity\n",
              "0      0.025951  0.022768     0.058731  ...  0.027731     0.027930    0.021808\n",
              "1      0.026196  0.029305     0.021025  ...  0.028166     0.023950    0.022898\n",
              "2      0.027177  0.028583     0.027053  ...  0.027755     0.023661    0.023262\n",
              "3      0.027142  0.028773     0.024530  ...  0.028334     0.023182    0.023625\n",
              "4      0.029488  0.021133     0.061955  ...  0.023557     0.024144    0.022171\n",
              "\n",
              "[5 rows x 10 columns]"
            ]
          },
          "metadata": {
            "tags": []
          },
          "execution_count": 48
        }
      ]
    },
    {
      "cell_type": "code",
      "metadata": {
        "id": "bBomoqFl4ppc",
        "colab": {
          "base_uri": "https://localhost:8080/",
          "height": 289
        },
        "outputId": "0521d440-cbd0-4f97-8b00-f609405c615d"
      },
      "source": [
        "# Extract a sub-dataframe that only contains non-numeric columns\n",
        "nonnumeric_cols = full_features.select_dtypes(include=['object'])\n",
        "\n",
        "# Merge non-numeric and normalized-numeric columns into one dataframe\n",
        "full_df = nonnumeric_cols.join(full_features_scaled)\n",
        "\n",
        "# Reorder columns\n",
        "column_names = full_features.columns\n",
        "full_df = full_df.reindex(columns=column_names)\n",
        "full_df.head()"
      ],
      "execution_count": 49,
      "outputs": [
        {
          "output_type": "execute_result",
          "data": {
            "text/html": [
              "<div>\n",
              "<style scoped>\n",
              "    .dataframe tbody tr th:only-of-type {\n",
              "        vertical-align: middle;\n",
              "    }\n",
              "\n",
              "    .dataframe tbody tr th {\n",
              "        vertical-align: top;\n",
              "    }\n",
              "\n",
              "    .dataframe thead th {\n",
              "        text-align: right;\n",
              "    }\n",
              "</style>\n",
              "<table border=\"1\" class=\"dataframe\">\n",
              "  <thead>\n",
              "    <tr style=\"text-align: right;\">\n",
              "      <th></th>\n",
              "      <th>artist</th>\n",
              "      <th>song</th>\n",
              "      <th>danceability</th>\n",
              "      <th>energy</th>\n",
              "      <th>speechiness</th>\n",
              "      <th>acousticness</th>\n",
              "      <th>instrumentalness</th>\n",
              "      <th>liveness</th>\n",
              "      <th>valence</th>\n",
              "      <th>tempo</th>\n",
              "      <th>type</th>\n",
              "      <th>duration_ms</th>\n",
              "      <th>popularity</th>\n",
              "    </tr>\n",
              "  </thead>\n",
              "  <tbody>\n",
              "    <tr>\n",
              "      <th>0</th>\n",
              "      <td>Lil Uzi Vert</td>\n",
              "      <td>POP</td>\n",
              "      <td>0.025951</td>\n",
              "      <td>0.022768</td>\n",
              "      <td>0.058731</td>\n",
              "      <td>0.000729</td>\n",
              "      <td>0.0</td>\n",
              "      <td>0.086492</td>\n",
              "      <td>0.012638</td>\n",
              "      <td>0.027731</td>\n",
              "      <td>audio_features</td>\n",
              "      <td>0.027930</td>\n",
              "      <td>0.021808</td>\n",
              "    </tr>\n",
              "    <tr>\n",
              "      <th>1</th>\n",
              "      <td>Lil Uzi Vert</td>\n",
              "      <td>Celebration Station</td>\n",
              "      <td>0.026196</td>\n",
              "      <td>0.029305</td>\n",
              "      <td>0.021025</td>\n",
              "      <td>0.007659</td>\n",
              "      <td>0.0</td>\n",
              "      <td>0.014874</td>\n",
              "      <td>0.036265</td>\n",
              "      <td>0.028166</td>\n",
              "      <td>audio_features</td>\n",
              "      <td>0.023950</td>\n",
              "      <td>0.022898</td>\n",
              "    </tr>\n",
              "    <tr>\n",
              "      <th>2</th>\n",
              "      <td>Lil Uzi Vert</td>\n",
              "      <td>Bigger Than Life</td>\n",
              "      <td>0.027177</td>\n",
              "      <td>0.028583</td>\n",
              "      <td>0.027053</td>\n",
              "      <td>0.024645</td>\n",
              "      <td>0.0</td>\n",
              "      <td>0.036360</td>\n",
              "      <td>0.032785</td>\n",
              "      <td>0.027755</td>\n",
              "      <td>audio_features</td>\n",
              "      <td>0.023661</td>\n",
              "      <td>0.023262</td>\n",
              "    </tr>\n",
              "    <tr>\n",
              "      <th>3</th>\n",
              "      <td>Lil Uzi Vert</td>\n",
              "      <td>Venetia</td>\n",
              "      <td>0.027142</td>\n",
              "      <td>0.028773</td>\n",
              "      <td>0.024530</td>\n",
              "      <td>0.012285</td>\n",
              "      <td>0.0</td>\n",
              "      <td>0.016307</td>\n",
              "      <td>0.025733</td>\n",
              "      <td>0.028334</td>\n",
              "      <td>audio_features</td>\n",
              "      <td>0.023182</td>\n",
              "      <td>0.023625</td>\n",
              "    </tr>\n",
              "    <tr>\n",
              "      <th>4</th>\n",
              "      <td>Lil Uzi Vert</td>\n",
              "      <td>You Better Move</td>\n",
              "      <td>0.029488</td>\n",
              "      <td>0.021133</td>\n",
              "      <td>0.061955</td>\n",
              "      <td>0.012057</td>\n",
              "      <td>0.0</td>\n",
              "      <td>0.022477</td>\n",
              "      <td>0.014011</td>\n",
              "      <td>0.023557</td>\n",
              "      <td>audio_features</td>\n",
              "      <td>0.024144</td>\n",
              "      <td>0.022171</td>\n",
              "    </tr>\n",
              "  </tbody>\n",
              "</table>\n",
              "</div>"
            ],
            "text/plain": [
              "         artist                 song  ...  duration_ms  popularity\n",
              "0  Lil Uzi Vert                  POP  ...     0.027930    0.021808\n",
              "1  Lil Uzi Vert  Celebration Station  ...     0.023950    0.022898\n",
              "2  Lil Uzi Vert     Bigger Than Life  ...     0.023661    0.023262\n",
              "3  Lil Uzi Vert              Venetia  ...     0.023182    0.023625\n",
              "4  Lil Uzi Vert      You Better Move  ...     0.024144    0.022171\n",
              "\n",
              "[5 rows x 13 columns]"
            ]
          },
          "metadata": {
            "tags": []
          },
          "execution_count": 49
        }
      ]
    },
    {
      "cell_type": "markdown",
      "metadata": {
        "id": "0JxdYYqh7xKm"
      },
      "source": [
        "It is possible that songs that do not share genres have similar characteristics. Therefore, a new column was created in order to distinguish songs from different groups. K-Means Clustering was used to create the new feature."
      ]
    },
    {
      "cell_type": "code",
      "metadata": {
        "id": "9yJEaj507IPj",
        "colab": {
          "base_uri": "https://localhost:8080/",
          "height": 129
        },
        "outputId": "04dc78c1-a7f5-44f0-eaff-91a89581ab27"
      },
      "source": [
        "# Use 10 clusters\n",
        "kmeans = KMeans(n_clusters=10, random_state=99)\n",
        "group = kmeans.fit_predict(full_features_scaled)\n",
        "\n",
        "# Normalize the predicted column\n",
        "group = preprocessing.normalize([group])\n",
        "group = pd.DataFrame(group)\n",
        "group.head()"
      ],
      "execution_count": 50,
      "outputs": [
        {
          "output_type": "execute_result",
          "data": {
            "text/html": [
              "<div>\n",
              "<style scoped>\n",
              "    .dataframe tbody tr th:only-of-type {\n",
              "        vertical-align: middle;\n",
              "    }\n",
              "\n",
              "    .dataframe tbody tr th {\n",
              "        vertical-align: top;\n",
              "    }\n",
              "\n",
              "    .dataframe thead th {\n",
              "        text-align: right;\n",
              "    }\n",
              "</style>\n",
              "<table border=\"1\" class=\"dataframe\">\n",
              "  <thead>\n",
              "    <tr style=\"text-align: right;\">\n",
              "      <th></th>\n",
              "      <th>0</th>\n",
              "      <th>1</th>\n",
              "      <th>2</th>\n",
              "      <th>3</th>\n",
              "      <th>4</th>\n",
              "      <th>5</th>\n",
              "      <th>6</th>\n",
              "      <th>7</th>\n",
              "      <th>8</th>\n",
              "      <th>9</th>\n",
              "      <th>10</th>\n",
              "      <th>11</th>\n",
              "      <th>12</th>\n",
              "      <th>13</th>\n",
              "      <th>14</th>\n",
              "      <th>15</th>\n",
              "      <th>16</th>\n",
              "      <th>17</th>\n",
              "      <th>18</th>\n",
              "      <th>19</th>\n",
              "      <th>20</th>\n",
              "      <th>21</th>\n",
              "      <th>22</th>\n",
              "      <th>23</th>\n",
              "      <th>24</th>\n",
              "      <th>25</th>\n",
              "      <th>26</th>\n",
              "      <th>27</th>\n",
              "      <th>28</th>\n",
              "      <th>29</th>\n",
              "      <th>30</th>\n",
              "      <th>31</th>\n",
              "      <th>32</th>\n",
              "      <th>33</th>\n",
              "      <th>34</th>\n",
              "      <th>35</th>\n",
              "      <th>36</th>\n",
              "      <th>37</th>\n",
              "      <th>38</th>\n",
              "      <th>39</th>\n",
              "      <th>...</th>\n",
              "      <th>1557</th>\n",
              "      <th>1558</th>\n",
              "      <th>1559</th>\n",
              "      <th>1560</th>\n",
              "      <th>1561</th>\n",
              "      <th>1562</th>\n",
              "      <th>1563</th>\n",
              "      <th>1564</th>\n",
              "      <th>1565</th>\n",
              "      <th>1566</th>\n",
              "      <th>1567</th>\n",
              "      <th>1568</th>\n",
              "      <th>1569</th>\n",
              "      <th>1570</th>\n",
              "      <th>1571</th>\n",
              "      <th>1572</th>\n",
              "      <th>1573</th>\n",
              "      <th>1574</th>\n",
              "      <th>1575</th>\n",
              "      <th>1576</th>\n",
              "      <th>1577</th>\n",
              "      <th>1578</th>\n",
              "      <th>1579</th>\n",
              "      <th>1580</th>\n",
              "      <th>1581</th>\n",
              "      <th>1582</th>\n",
              "      <th>1583</th>\n",
              "      <th>1584</th>\n",
              "      <th>1585</th>\n",
              "      <th>1586</th>\n",
              "      <th>1587</th>\n",
              "      <th>1588</th>\n",
              "      <th>1589</th>\n",
              "      <th>1590</th>\n",
              "      <th>1591</th>\n",
              "      <th>1592</th>\n",
              "      <th>1593</th>\n",
              "      <th>1594</th>\n",
              "      <th>1595</th>\n",
              "      <th>1596</th>\n",
              "    </tr>\n",
              "  </thead>\n",
              "  <tbody>\n",
              "    <tr>\n",
              "      <th>0</th>\n",
              "      <td>0.0</td>\n",
              "      <td>0.004564</td>\n",
              "      <td>0.041078</td>\n",
              "      <td>0.004564</td>\n",
              "      <td>0.022821</td>\n",
              "      <td>0.013693</td>\n",
              "      <td>0.031949</td>\n",
              "      <td>0.013693</td>\n",
              "      <td>0.031949</td>\n",
              "      <td>0.041078</td>\n",
              "      <td>0.022821</td>\n",
              "      <td>0.041078</td>\n",
              "      <td>0.013693</td>\n",
              "      <td>0.027385</td>\n",
              "      <td>0.022821</td>\n",
              "      <td>0.027385</td>\n",
              "      <td>0.013693</td>\n",
              "      <td>0.041078</td>\n",
              "      <td>0.013693</td>\n",
              "      <td>0.041078</td>\n",
              "      <td>0.022821</td>\n",
              "      <td>0.013693</td>\n",
              "      <td>0.004564</td>\n",
              "      <td>0.027385</td>\n",
              "      <td>0.013693</td>\n",
              "      <td>0.004564</td>\n",
              "      <td>0.004564</td>\n",
              "      <td>0.022821</td>\n",
              "      <td>0.027385</td>\n",
              "      <td>0.027385</td>\n",
              "      <td>0.022821</td>\n",
              "      <td>0.022821</td>\n",
              "      <td>0.004564</td>\n",
              "      <td>0.031949</td>\n",
              "      <td>0.004564</td>\n",
              "      <td>0.031949</td>\n",
              "      <td>0.004564</td>\n",
              "      <td>0.022821</td>\n",
              "      <td>0.027385</td>\n",
              "      <td>0.004564</td>\n",
              "      <td>...</td>\n",
              "      <td>0.027385</td>\n",
              "      <td>0.004564</td>\n",
              "      <td>0.041078</td>\n",
              "      <td>0.041078</td>\n",
              "      <td>0.027385</td>\n",
              "      <td>0.004564</td>\n",
              "      <td>0.027385</td>\n",
              "      <td>0.027385</td>\n",
              "      <td>0.013693</td>\n",
              "      <td>0.004564</td>\n",
              "      <td>0.022821</td>\n",
              "      <td>0.0</td>\n",
              "      <td>0.041078</td>\n",
              "      <td>0.036514</td>\n",
              "      <td>0.027385</td>\n",
              "      <td>0.027385</td>\n",
              "      <td>0.022821</td>\n",
              "      <td>0.041078</td>\n",
              "      <td>0.027385</td>\n",
              "      <td>0.013693</td>\n",
              "      <td>0.041078</td>\n",
              "      <td>0.041078</td>\n",
              "      <td>0.018257</td>\n",
              "      <td>0.018257</td>\n",
              "      <td>0.041078</td>\n",
              "      <td>0.004564</td>\n",
              "      <td>0.022821</td>\n",
              "      <td>0.022821</td>\n",
              "      <td>0.027385</td>\n",
              "      <td>0.022821</td>\n",
              "      <td>0.022821</td>\n",
              "      <td>0.0</td>\n",
              "      <td>0.031949</td>\n",
              "      <td>0.041078</td>\n",
              "      <td>0.027385</td>\n",
              "      <td>0.022821</td>\n",
              "      <td>0.004564</td>\n",
              "      <td>0.022821</td>\n",
              "      <td>0.013693</td>\n",
              "      <td>0.013693</td>\n",
              "    </tr>\n",
              "  </tbody>\n",
              "</table>\n",
              "<p>1 rows × 1597 columns</p>\n",
              "</div>"
            ],
            "text/plain": [
              "   0         1         2         3     ...      1593      1594      1595      1596\n",
              "0   0.0  0.004564  0.041078  0.004564  ...  0.004564  0.022821  0.013693  0.013693\n",
              "\n",
              "[1 rows x 1597 columns]"
            ]
          },
          "metadata": {
            "tags": []
          },
          "execution_count": 50
        }
      ]
    },
    {
      "cell_type": "code",
      "metadata": {
        "id": "vzgt0gepDLxC",
        "colab": {
          "base_uri": "https://localhost:8080/",
          "height": 204
        },
        "outputId": "3961673d-4bed-457f-b650-637d8687c95f"
      },
      "source": [
        "# Change the dataframe from the wide to tall format\n",
        "group = group.unstack().reset_index()\n",
        "group.drop(group.columns[[0,1]], axis=1, inplace=True)\n",
        "\n",
        "# Rename the column\n",
        "group.columns = ['category']\n",
        "group.head()"
      ],
      "execution_count": 51,
      "outputs": [
        {
          "output_type": "execute_result",
          "data": {
            "text/html": [
              "<div>\n",
              "<style scoped>\n",
              "    .dataframe tbody tr th:only-of-type {\n",
              "        vertical-align: middle;\n",
              "    }\n",
              "\n",
              "    .dataframe tbody tr th {\n",
              "        vertical-align: top;\n",
              "    }\n",
              "\n",
              "    .dataframe thead th {\n",
              "        text-align: right;\n",
              "    }\n",
              "</style>\n",
              "<table border=\"1\" class=\"dataframe\">\n",
              "  <thead>\n",
              "    <tr style=\"text-align: right;\">\n",
              "      <th></th>\n",
              "      <th>category</th>\n",
              "    </tr>\n",
              "  </thead>\n",
              "  <tbody>\n",
              "    <tr>\n",
              "      <th>0</th>\n",
              "      <td>0.000000</td>\n",
              "    </tr>\n",
              "    <tr>\n",
              "      <th>1</th>\n",
              "      <td>0.004564</td>\n",
              "    </tr>\n",
              "    <tr>\n",
              "      <th>2</th>\n",
              "      <td>0.041078</td>\n",
              "    </tr>\n",
              "    <tr>\n",
              "      <th>3</th>\n",
              "      <td>0.004564</td>\n",
              "    </tr>\n",
              "    <tr>\n",
              "      <th>4</th>\n",
              "      <td>0.022821</td>\n",
              "    </tr>\n",
              "  </tbody>\n",
              "</table>\n",
              "</div>"
            ],
            "text/plain": [
              "   category\n",
              "0  0.000000\n",
              "1  0.004564\n",
              "2  0.041078\n",
              "3  0.004564\n",
              "4  0.022821"
            ]
          },
          "metadata": {
            "tags": []
          },
          "execution_count": 51
        }
      ]
    },
    {
      "cell_type": "code",
      "metadata": {
        "id": "gDxaUV8mDXHO",
        "colab": {
          "base_uri": "https://localhost:8080/",
          "height": 309
        },
        "outputId": "db0c3f3d-a867-42de-dcd2-5204c594ccca"
      },
      "source": [
        "# Merge full_features_scaled and group dataframe together\n",
        "full_df = pd.concat([full_df, group], axis=1)\n",
        "full_df.head()"
      ],
      "execution_count": 52,
      "outputs": [
        {
          "output_type": "execute_result",
          "data": {
            "text/html": [
              "<div>\n",
              "<style scoped>\n",
              "    .dataframe tbody tr th:only-of-type {\n",
              "        vertical-align: middle;\n",
              "    }\n",
              "\n",
              "    .dataframe tbody tr th {\n",
              "        vertical-align: top;\n",
              "    }\n",
              "\n",
              "    .dataframe thead th {\n",
              "        text-align: right;\n",
              "    }\n",
              "</style>\n",
              "<table border=\"1\" class=\"dataframe\">\n",
              "  <thead>\n",
              "    <tr style=\"text-align: right;\">\n",
              "      <th></th>\n",
              "      <th>artist</th>\n",
              "      <th>song</th>\n",
              "      <th>danceability</th>\n",
              "      <th>energy</th>\n",
              "      <th>speechiness</th>\n",
              "      <th>acousticness</th>\n",
              "      <th>instrumentalness</th>\n",
              "      <th>liveness</th>\n",
              "      <th>valence</th>\n",
              "      <th>tempo</th>\n",
              "      <th>type</th>\n",
              "      <th>duration_ms</th>\n",
              "      <th>popularity</th>\n",
              "      <th>category</th>\n",
              "    </tr>\n",
              "  </thead>\n",
              "  <tbody>\n",
              "    <tr>\n",
              "      <th>0</th>\n",
              "      <td>Lil Uzi Vert</td>\n",
              "      <td>POP</td>\n",
              "      <td>0.025951</td>\n",
              "      <td>0.022768</td>\n",
              "      <td>0.058731</td>\n",
              "      <td>0.000729</td>\n",
              "      <td>0.0</td>\n",
              "      <td>0.086492</td>\n",
              "      <td>0.012638</td>\n",
              "      <td>0.027731</td>\n",
              "      <td>audio_features</td>\n",
              "      <td>0.027930</td>\n",
              "      <td>0.021808</td>\n",
              "      <td>0.000000</td>\n",
              "    </tr>\n",
              "    <tr>\n",
              "      <th>1</th>\n",
              "      <td>Lil Uzi Vert</td>\n",
              "      <td>Celebration Station</td>\n",
              "      <td>0.026196</td>\n",
              "      <td>0.029305</td>\n",
              "      <td>0.021025</td>\n",
              "      <td>0.007659</td>\n",
              "      <td>0.0</td>\n",
              "      <td>0.014874</td>\n",
              "      <td>0.036265</td>\n",
              "      <td>0.028166</td>\n",
              "      <td>audio_features</td>\n",
              "      <td>0.023950</td>\n",
              "      <td>0.022898</td>\n",
              "      <td>0.004564</td>\n",
              "    </tr>\n",
              "    <tr>\n",
              "      <th>2</th>\n",
              "      <td>Lil Uzi Vert</td>\n",
              "      <td>Bigger Than Life</td>\n",
              "      <td>0.027177</td>\n",
              "      <td>0.028583</td>\n",
              "      <td>0.027053</td>\n",
              "      <td>0.024645</td>\n",
              "      <td>0.0</td>\n",
              "      <td>0.036360</td>\n",
              "      <td>0.032785</td>\n",
              "      <td>0.027755</td>\n",
              "      <td>audio_features</td>\n",
              "      <td>0.023661</td>\n",
              "      <td>0.023262</td>\n",
              "      <td>0.041078</td>\n",
              "    </tr>\n",
              "    <tr>\n",
              "      <th>3</th>\n",
              "      <td>Lil Uzi Vert</td>\n",
              "      <td>Venetia</td>\n",
              "      <td>0.027142</td>\n",
              "      <td>0.028773</td>\n",
              "      <td>0.024530</td>\n",
              "      <td>0.012285</td>\n",
              "      <td>0.0</td>\n",
              "      <td>0.016307</td>\n",
              "      <td>0.025733</td>\n",
              "      <td>0.028334</td>\n",
              "      <td>audio_features</td>\n",
              "      <td>0.023182</td>\n",
              "      <td>0.023625</td>\n",
              "      <td>0.004564</td>\n",
              "    </tr>\n",
              "    <tr>\n",
              "      <th>4</th>\n",
              "      <td>Lil Uzi Vert</td>\n",
              "      <td>You Better Move</td>\n",
              "      <td>0.029488</td>\n",
              "      <td>0.021133</td>\n",
              "      <td>0.061955</td>\n",
              "      <td>0.012057</td>\n",
              "      <td>0.0</td>\n",
              "      <td>0.022477</td>\n",
              "      <td>0.014011</td>\n",
              "      <td>0.023557</td>\n",
              "      <td>audio_features</td>\n",
              "      <td>0.024144</td>\n",
              "      <td>0.022171</td>\n",
              "      <td>0.022821</td>\n",
              "    </tr>\n",
              "  </tbody>\n",
              "</table>\n",
              "</div>"
            ],
            "text/plain": [
              "         artist                 song  ...  popularity  category\n",
              "0  Lil Uzi Vert                  POP  ...    0.021808  0.000000\n",
              "1  Lil Uzi Vert  Celebration Station  ...    0.022898  0.004564\n",
              "2  Lil Uzi Vert     Bigger Than Life  ...    0.023262  0.041078\n",
              "3  Lil Uzi Vert              Venetia  ...    0.023625  0.004564\n",
              "4  Lil Uzi Vert      You Better Move  ...    0.022171  0.022821\n",
              "\n",
              "[5 rows x 14 columns]"
            ]
          },
          "metadata": {
            "tags": []
          },
          "execution_count": 52
        }
      ]
    },
    {
      "cell_type": "code",
      "metadata": {
        "id": "x1MzaU4iZ-ov"
      },
      "source": [
        "# A function that takes the song's name and the number of similar songs that listeners want to find\n",
        "# to generate the final recommendation list\n",
        "def recommendation(name, num=1):\n",
        "  dist_arr = []\n",
        "\n",
        "  # Retrieve selected song's information\n",
        "  selected_song = full_df.loc[full_df.song.str.lower() == name, ]\n",
        "  # Extract the numeric data of the selected song\n",
        "  selected_song_num = selected_song.select_dtypes(include=numeric_types)\n",
        "\n",
        "  # Drop the selection song information\n",
        "  df = full_df[full_df.song.str.lower() != name]\n",
        "  # Create a sub-dataframe of df that only includes numeric data\n",
        "  df_numeric = df.select_dtypes(include=numeric_types)\n",
        "\n",
        "  # Calculate the distance of numeric features between selected song and all other songs using Euclidean distance\n",
        "  for i in range(len(df)):\n",
        "    song = pd.DataFrame(df_numeric.iloc[0,:]).T\n",
        "    # Calculate the distance\n",
        "    dist = euclidean(selected_song_num, song)\n",
        "    # Add the calculated distance to dist_arr list\n",
        "    dist_arr.append(dist)\n",
        "\n",
        "  # Merge the dist_arr list to the df dataframe\n",
        "  df['distance'] = dist_arr\n",
        "\n",
        "  # Sort the df dataframe by distance in ascending order\n",
        "  df = df.sort_values('distance')\n",
        "  \n",
        "  # Return the artists and \n",
        "  return df[['artist', 'song']][:num].reset_index()"
      ],
      "execution_count": 53,
      "outputs": []
    },
    {
      "cell_type": "code",
      "metadata": {
        "id": "h782Qn8FzneM",
        "colab": {
          "base_uri": "https://localhost:8080/",
          "height": 444
        },
        "outputId": "4f969aa1-b6c7-484b-afba-d6ccb5f8d855"
      },
      "source": [
        "# Generate suggestion list of songs that are similar to ON by BTS\n",
        "recommendation('on', 10)"
      ],
      "execution_count": 54,
      "outputs": [
        {
          "output_type": "stream",
          "text": [
            "/usr/local/lib/python3.7/dist-packages/ipykernel_launcher.py:25: SettingWithCopyWarning: \n",
            "A value is trying to be set on a copy of a slice from a DataFrame.\n",
            "Try using .loc[row_indexer,col_indexer] = value instead\n",
            "\n",
            "See the caveats in the documentation: https://pandas.pydata.org/pandas-docs/stable/user_guide/indexing.html#returning-a-view-versus-a-copy\n"
          ],
          "name": "stderr"
        },
        {
          "output_type": "execute_result",
          "data": {
            "text/html": [
              "<div>\n",
              "<style scoped>\n",
              "    .dataframe tbody tr th:only-of-type {\n",
              "        vertical-align: middle;\n",
              "    }\n",
              "\n",
              "    .dataframe tbody tr th {\n",
              "        vertical-align: top;\n",
              "    }\n",
              "\n",
              "    .dataframe thead th {\n",
              "        text-align: right;\n",
              "    }\n",
              "</style>\n",
              "<table border=\"1\" class=\"dataframe\">\n",
              "  <thead>\n",
              "    <tr style=\"text-align: right;\">\n",
              "      <th></th>\n",
              "      <th>index</th>\n",
              "      <th>artist</th>\n",
              "      <th>song</th>\n",
              "    </tr>\n",
              "  </thead>\n",
              "  <tbody>\n",
              "    <tr>\n",
              "      <th>0</th>\n",
              "      <td>0</td>\n",
              "      <td>Lil Uzi Vert</td>\n",
              "      <td>POP</td>\n",
              "    </tr>\n",
              "    <tr>\n",
              "      <th>1</th>\n",
              "      <td>1070</td>\n",
              "      <td>Megan Thee Stallion</td>\n",
              "      <td>Body</td>\n",
              "    </tr>\n",
              "    <tr>\n",
              "      <th>2</th>\n",
              "      <td>1069</td>\n",
              "      <td>Maluma</td>\n",
              "      <td>Hawái - Remix</td>\n",
              "    </tr>\n",
              "    <tr>\n",
              "      <th>3</th>\n",
              "      <td>1068</td>\n",
              "      <td>Justin Quiles</td>\n",
              "      <td>Jeans</td>\n",
              "    </tr>\n",
              "    <tr>\n",
              "      <th>4</th>\n",
              "      <td>1067</td>\n",
              "      <td>J Balvin</td>\n",
              "      <td>UN DIA (ONE DAY)</td>\n",
              "    </tr>\n",
              "    <tr>\n",
              "      <th>5</th>\n",
              "      <td>1066</td>\n",
              "      <td>Bad Bunny</td>\n",
              "      <td>TRELLAS</td>\n",
              "    </tr>\n",
              "    <tr>\n",
              "      <th>6</th>\n",
              "      <td>1065</td>\n",
              "      <td>Ritt Momney</td>\n",
              "      <td>Put Your Records On</td>\n",
              "    </tr>\n",
              "    <tr>\n",
              "      <th>7</th>\n",
              "      <td>1064</td>\n",
              "      <td>Bad Bunny</td>\n",
              "      <td>120</td>\n",
              "    </tr>\n",
              "    <tr>\n",
              "      <th>8</th>\n",
              "      <td>1063</td>\n",
              "      <td>Drake</td>\n",
              "      <td>Laugh Now Cry Later (feat. Lil Durk)</td>\n",
              "    </tr>\n",
              "    <tr>\n",
              "      <th>9</th>\n",
              "      <td>1062</td>\n",
              "      <td>Bad Bunny</td>\n",
              "      <td>SORRY PAPI</td>\n",
              "    </tr>\n",
              "  </tbody>\n",
              "</table>\n",
              "</div>"
            ],
            "text/plain": [
              "   index               artist                                  song\n",
              "0      0         Lil Uzi Vert                                   POP\n",
              "1   1070  Megan Thee Stallion                                  Body\n",
              "2   1069               Maluma                         Hawái - Remix\n",
              "3   1068        Justin Quiles                                 Jeans\n",
              "4   1067             J Balvin                      UN DIA (ONE DAY)\n",
              "5   1066            Bad Bunny                               TRELLAS\n",
              "6   1065          Ritt Momney                   Put Your Records On\n",
              "7   1064            Bad Bunny                                   120\n",
              "8   1063                Drake  Laugh Now Cry Later (feat. Lil Durk)\n",
              "9   1062            Bad Bunny                            SORRY PAPI"
            ]
          },
          "metadata": {
            "tags": []
          },
          "execution_count": 54
        }
      ]
    }
  ]
}